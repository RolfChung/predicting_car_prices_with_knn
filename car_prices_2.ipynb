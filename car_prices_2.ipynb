{
 "cells": [
  {
   "cell_type": "markdown",
   "metadata": {},
   "source": [
    "### Summary\n",
    "\n",
    "\n",
    "This project applies the <a href=\"https://en.wikipedia.org/wiki/K-nearest_neighbors_algorithm\"> k-nearest neighbors algorithm </a> on the <a hredf=\"https://archive.ics.uci.edu/ml/datasets/automobile\">automobile data set</a>. The goal is to predict car prices from different set of features. It uses a complete <a href=\"https://scikit-learn.org/stable/index.html\">scikit</a> machine learning work including train-test-split, instantiating, fitting, predicting and evaluating the knn-model. The pandas package is use for data cleaning, imputing, and subsetting. Data visualization are provided on the way and so are different functions created. The considerations and predictions are given below.\n"
   ]
  },
  {
   "cell_type": "markdown",
   "metadata": {},
   "source": [
    "### Import Python packages"
   ]
  },
  {
   "cell_type": "code",
   "execution_count": 1447,
   "metadata": {},
   "outputs": [],
   "source": [
    "import pandas as pd\n",
    "import matplotlib.pyplot as plt\n",
    "%matplotlib inline\n",
    "import seaborn as sns\n",
    "import numpy as np\n",
    "from sklearn.neighbors import KNeighborsRegressor \n",
    "from sklearn.model_selection import train_test_split\n",
    "from sklearn.metrics import mean_squared_error\n",
    "import itertools"
   ]
  },
  {
   "cell_type": "code",
   "execution_count": 1448,
   "metadata": {},
   "outputs": [],
   "source": [
    "column_names = [\"symboling\",\n",
    "\"normalized-losses\",\n",
    "\"make\",\n",
    "\"fuel-type\",\n",
    "\"aspiration\",\n",
    "\"num-of-doors\",\n",
    "\"body-style\",\n",
    "\"drive-wheels\",\n",
    "\"engine-location\",\n",
    "\"wheel-base\",\n",
    "\"length\",\n",
    "\"width\",\n",
    "\"height\",\n",
    "\"curb-weight\",\n",
    "\"engine-type\",\n",
    "\"num-of-cylinders\",\n",
    "\"engine-size\",\n",
    "\"fuel-system\",\n",
    "\"bore\",\n",
    "\"stroke\",\n",
    "\"compression-ratio\",\n",
    "\"horsepower\",\n",
    "\"peak-rpm\",\n",
    "\"city-mpg\",\n",
    "\"highway-mpg\",\n",
    "\"price\"\n",
    "]"
   ]
  },
  {
   "cell_type": "code",
   "execution_count": 1449,
   "metadata": {
    "scrolled": true
   },
   "outputs": [
    {
     "data": {
      "text/plain": [
       "['symboling',\n",
       " 'normalized-losses',\n",
       " 'make',\n",
       " 'fuel-type',\n",
       " 'aspiration',\n",
       " 'num-of-doors']"
      ]
     },
     "execution_count": 1449,
     "metadata": {},
     "output_type": "execute_result"
    }
   ],
   "source": [
    "column_names[0:6]"
   ]
  },
  {
   "cell_type": "markdown",
   "metadata": {},
   "source": [
    "### Import data"
   ]
  },
  {
   "cell_type": "code",
   "execution_count": 1450,
   "metadata": {},
   "outputs": [],
   "source": [
    "cars=pd.read_csv(\"imports-85.data\", header=None, names= column_names)"
   ]
  },
  {
   "cell_type": "markdown",
   "metadata": {},
   "source": [
    "### Explore data"
   ]
  },
  {
   "cell_type": "code",
   "execution_count": 1451,
   "metadata": {},
   "outputs": [
    {
     "data": {
      "text/plain": [
       "(205, 26)"
      ]
     },
     "execution_count": 1451,
     "metadata": {},
     "output_type": "execute_result"
    }
   ],
   "source": [
    "cars.shape"
   ]
  },
  {
   "cell_type": "code",
   "execution_count": 1452,
   "metadata": {},
   "outputs": [
    {
     "name": "stdout",
     "output_type": "stream",
     "text": [
      "<class 'pandas.core.frame.DataFrame'>\n",
      "RangeIndex: 205 entries, 0 to 204\n",
      "Data columns (total 26 columns):\n",
      "symboling            205 non-null int64\n",
      "normalized-losses    205 non-null object\n",
      "make                 205 non-null object\n",
      "fuel-type            205 non-null object\n",
      "aspiration           205 non-null object\n",
      "num-of-doors         205 non-null object\n",
      "body-style           205 non-null object\n",
      "drive-wheels         205 non-null object\n",
      "engine-location      205 non-null object\n",
      "wheel-base           205 non-null float64\n",
      "length               205 non-null float64\n",
      "width                205 non-null float64\n",
      "height               205 non-null float64\n",
      "curb-weight          205 non-null int64\n",
      "engine-type          205 non-null object\n",
      "num-of-cylinders     205 non-null object\n",
      "engine-size          205 non-null int64\n",
      "fuel-system          205 non-null object\n",
      "bore                 205 non-null object\n",
      "stroke               205 non-null object\n",
      "compression-ratio    205 non-null float64\n",
      "horsepower           205 non-null object\n",
      "peak-rpm             205 non-null object\n",
      "city-mpg             205 non-null int64\n",
      "highway-mpg          205 non-null int64\n",
      "price                205 non-null object\n",
      "dtypes: float64(5), int64(5), object(16)\n",
      "memory usage: 41.7+ KB\n"
     ]
    }
   ],
   "source": [
    "cars.info()"
   ]
  },
  {
   "cell_type": "code",
   "execution_count": 1453,
   "metadata": {},
   "outputs": [
    {
     "data": {
      "text/html": [
       "<div>\n",
       "<style>\n",
       "    .dataframe thead tr:only-child th {\n",
       "        text-align: right;\n",
       "    }\n",
       "\n",
       "    .dataframe thead th {\n",
       "        text-align: left;\n",
       "    }\n",
       "\n",
       "    .dataframe tbody tr th {\n",
       "        vertical-align: top;\n",
       "    }\n",
       "</style>\n",
       "<table border=\"1\" class=\"dataframe\">\n",
       "  <thead>\n",
       "    <tr style=\"text-align: right;\">\n",
       "      <th></th>\n",
       "      <th>symboling</th>\n",
       "      <th>normalized-losses</th>\n",
       "      <th>make</th>\n",
       "      <th>fuel-type</th>\n",
       "      <th>aspiration</th>\n",
       "      <th>num-of-doors</th>\n",
       "      <th>body-style</th>\n",
       "      <th>drive-wheels</th>\n",
       "      <th>engine-location</th>\n",
       "      <th>wheel-base</th>\n",
       "      <th>...</th>\n",
       "      <th>engine-size</th>\n",
       "      <th>fuel-system</th>\n",
       "      <th>bore</th>\n",
       "      <th>stroke</th>\n",
       "      <th>compression-ratio</th>\n",
       "      <th>horsepower</th>\n",
       "      <th>peak-rpm</th>\n",
       "      <th>city-mpg</th>\n",
       "      <th>highway-mpg</th>\n",
       "      <th>price</th>\n",
       "    </tr>\n",
       "  </thead>\n",
       "  <tbody>\n",
       "    <tr>\n",
       "      <th>0</th>\n",
       "      <td>3</td>\n",
       "      <td>?</td>\n",
       "      <td>alfa-romero</td>\n",
       "      <td>gas</td>\n",
       "      <td>std</td>\n",
       "      <td>two</td>\n",
       "      <td>convertible</td>\n",
       "      <td>rwd</td>\n",
       "      <td>front</td>\n",
       "      <td>88.6</td>\n",
       "      <td>...</td>\n",
       "      <td>130</td>\n",
       "      <td>mpfi</td>\n",
       "      <td>3.47</td>\n",
       "      <td>2.68</td>\n",
       "      <td>9.0</td>\n",
       "      <td>111</td>\n",
       "      <td>5000</td>\n",
       "      <td>21</td>\n",
       "      <td>27</td>\n",
       "      <td>13495</td>\n",
       "    </tr>\n",
       "    <tr>\n",
       "      <th>1</th>\n",
       "      <td>3</td>\n",
       "      <td>?</td>\n",
       "      <td>alfa-romero</td>\n",
       "      <td>gas</td>\n",
       "      <td>std</td>\n",
       "      <td>two</td>\n",
       "      <td>convertible</td>\n",
       "      <td>rwd</td>\n",
       "      <td>front</td>\n",
       "      <td>88.6</td>\n",
       "      <td>...</td>\n",
       "      <td>130</td>\n",
       "      <td>mpfi</td>\n",
       "      <td>3.47</td>\n",
       "      <td>2.68</td>\n",
       "      <td>9.0</td>\n",
       "      <td>111</td>\n",
       "      <td>5000</td>\n",
       "      <td>21</td>\n",
       "      <td>27</td>\n",
       "      <td>16500</td>\n",
       "    </tr>\n",
       "    <tr>\n",
       "      <th>2</th>\n",
       "      <td>1</td>\n",
       "      <td>?</td>\n",
       "      <td>alfa-romero</td>\n",
       "      <td>gas</td>\n",
       "      <td>std</td>\n",
       "      <td>two</td>\n",
       "      <td>hatchback</td>\n",
       "      <td>rwd</td>\n",
       "      <td>front</td>\n",
       "      <td>94.5</td>\n",
       "      <td>...</td>\n",
       "      <td>152</td>\n",
       "      <td>mpfi</td>\n",
       "      <td>2.68</td>\n",
       "      <td>3.47</td>\n",
       "      <td>9.0</td>\n",
       "      <td>154</td>\n",
       "      <td>5000</td>\n",
       "      <td>19</td>\n",
       "      <td>26</td>\n",
       "      <td>16500</td>\n",
       "    </tr>\n",
       "    <tr>\n",
       "      <th>3</th>\n",
       "      <td>2</td>\n",
       "      <td>164</td>\n",
       "      <td>audi</td>\n",
       "      <td>gas</td>\n",
       "      <td>std</td>\n",
       "      <td>four</td>\n",
       "      <td>sedan</td>\n",
       "      <td>fwd</td>\n",
       "      <td>front</td>\n",
       "      <td>99.8</td>\n",
       "      <td>...</td>\n",
       "      <td>109</td>\n",
       "      <td>mpfi</td>\n",
       "      <td>3.19</td>\n",
       "      <td>3.40</td>\n",
       "      <td>10.0</td>\n",
       "      <td>102</td>\n",
       "      <td>5500</td>\n",
       "      <td>24</td>\n",
       "      <td>30</td>\n",
       "      <td>13950</td>\n",
       "    </tr>\n",
       "    <tr>\n",
       "      <th>4</th>\n",
       "      <td>2</td>\n",
       "      <td>164</td>\n",
       "      <td>audi</td>\n",
       "      <td>gas</td>\n",
       "      <td>std</td>\n",
       "      <td>four</td>\n",
       "      <td>sedan</td>\n",
       "      <td>4wd</td>\n",
       "      <td>front</td>\n",
       "      <td>99.4</td>\n",
       "      <td>...</td>\n",
       "      <td>136</td>\n",
       "      <td>mpfi</td>\n",
       "      <td>3.19</td>\n",
       "      <td>3.40</td>\n",
       "      <td>8.0</td>\n",
       "      <td>115</td>\n",
       "      <td>5500</td>\n",
       "      <td>18</td>\n",
       "      <td>22</td>\n",
       "      <td>17450</td>\n",
       "    </tr>\n",
       "  </tbody>\n",
       "</table>\n",
       "<p>5 rows × 26 columns</p>\n",
       "</div>"
      ],
      "text/plain": [
       "   symboling normalized-losses         make fuel-type aspiration num-of-doors  \\\n",
       "0          3                 ?  alfa-romero       gas        std          two   \n",
       "1          3                 ?  alfa-romero       gas        std          two   \n",
       "2          1                 ?  alfa-romero       gas        std          two   \n",
       "3          2               164         audi       gas        std         four   \n",
       "4          2               164         audi       gas        std         four   \n",
       "\n",
       "    body-style drive-wheels engine-location  wheel-base  ...    engine-size  \\\n",
       "0  convertible          rwd           front        88.6  ...            130   \n",
       "1  convertible          rwd           front        88.6  ...            130   \n",
       "2    hatchback          rwd           front        94.5  ...            152   \n",
       "3        sedan          fwd           front        99.8  ...            109   \n",
       "4        sedan          4wd           front        99.4  ...            136   \n",
       "\n",
       "   fuel-system  bore  stroke compression-ratio horsepower  peak-rpm city-mpg  \\\n",
       "0         mpfi  3.47    2.68               9.0        111      5000       21   \n",
       "1         mpfi  3.47    2.68               9.0        111      5000       21   \n",
       "2         mpfi  2.68    3.47               9.0        154      5000       19   \n",
       "3         mpfi  3.19    3.40              10.0        102      5500       24   \n",
       "4         mpfi  3.19    3.40               8.0        115      5500       18   \n",
       "\n",
       "  highway-mpg  price  \n",
       "0          27  13495  \n",
       "1          27  16500  \n",
       "2          26  16500  \n",
       "3          30  13950  \n",
       "4          22  17450  \n",
       "\n",
       "[5 rows x 26 columns]"
      ]
     },
     "execution_count": 1453,
     "metadata": {},
     "output_type": "execute_result"
    }
   ],
   "source": [
    "cars.head()"
   ]
  },
  {
   "cell_type": "code",
   "execution_count": 1454,
   "metadata": {},
   "outputs": [
    {
     "data": {
      "text/html": [
       "<div>\n",
       "<style>\n",
       "    .dataframe thead tr:only-child th {\n",
       "        text-align: right;\n",
       "    }\n",
       "\n",
       "    .dataframe thead th {\n",
       "        text-align: left;\n",
       "    }\n",
       "\n",
       "    .dataframe tbody tr th {\n",
       "        vertical-align: top;\n",
       "    }\n",
       "</style>\n",
       "<table border=\"1\" class=\"dataframe\">\n",
       "  <thead>\n",
       "    <tr style=\"text-align: right;\">\n",
       "      <th></th>\n",
       "      <th>symboling</th>\n",
       "      <th>normalized-losses</th>\n",
       "      <th>make</th>\n",
       "      <th>fuel-type</th>\n",
       "      <th>aspiration</th>\n",
       "      <th>num-of-doors</th>\n",
       "      <th>body-style</th>\n",
       "      <th>drive-wheels</th>\n",
       "      <th>engine-location</th>\n",
       "      <th>wheel-base</th>\n",
       "      <th>...</th>\n",
       "      <th>engine-size</th>\n",
       "      <th>fuel-system</th>\n",
       "      <th>bore</th>\n",
       "      <th>stroke</th>\n",
       "      <th>compression-ratio</th>\n",
       "      <th>horsepower</th>\n",
       "      <th>peak-rpm</th>\n",
       "      <th>city-mpg</th>\n",
       "      <th>highway-mpg</th>\n",
       "      <th>price</th>\n",
       "    </tr>\n",
       "  </thead>\n",
       "  <tbody>\n",
       "    <tr>\n",
       "      <th>200</th>\n",
       "      <td>-1</td>\n",
       "      <td>95</td>\n",
       "      <td>volvo</td>\n",
       "      <td>gas</td>\n",
       "      <td>std</td>\n",
       "      <td>four</td>\n",
       "      <td>sedan</td>\n",
       "      <td>rwd</td>\n",
       "      <td>front</td>\n",
       "      <td>109.1</td>\n",
       "      <td>...</td>\n",
       "      <td>141</td>\n",
       "      <td>mpfi</td>\n",
       "      <td>3.78</td>\n",
       "      <td>3.15</td>\n",
       "      <td>9.5</td>\n",
       "      <td>114</td>\n",
       "      <td>5400</td>\n",
       "      <td>23</td>\n",
       "      <td>28</td>\n",
       "      <td>16845</td>\n",
       "    </tr>\n",
       "    <tr>\n",
       "      <th>201</th>\n",
       "      <td>-1</td>\n",
       "      <td>95</td>\n",
       "      <td>volvo</td>\n",
       "      <td>gas</td>\n",
       "      <td>turbo</td>\n",
       "      <td>four</td>\n",
       "      <td>sedan</td>\n",
       "      <td>rwd</td>\n",
       "      <td>front</td>\n",
       "      <td>109.1</td>\n",
       "      <td>...</td>\n",
       "      <td>141</td>\n",
       "      <td>mpfi</td>\n",
       "      <td>3.78</td>\n",
       "      <td>3.15</td>\n",
       "      <td>8.7</td>\n",
       "      <td>160</td>\n",
       "      <td>5300</td>\n",
       "      <td>19</td>\n",
       "      <td>25</td>\n",
       "      <td>19045</td>\n",
       "    </tr>\n",
       "    <tr>\n",
       "      <th>202</th>\n",
       "      <td>-1</td>\n",
       "      <td>95</td>\n",
       "      <td>volvo</td>\n",
       "      <td>gas</td>\n",
       "      <td>std</td>\n",
       "      <td>four</td>\n",
       "      <td>sedan</td>\n",
       "      <td>rwd</td>\n",
       "      <td>front</td>\n",
       "      <td>109.1</td>\n",
       "      <td>...</td>\n",
       "      <td>173</td>\n",
       "      <td>mpfi</td>\n",
       "      <td>3.58</td>\n",
       "      <td>2.87</td>\n",
       "      <td>8.8</td>\n",
       "      <td>134</td>\n",
       "      <td>5500</td>\n",
       "      <td>18</td>\n",
       "      <td>23</td>\n",
       "      <td>21485</td>\n",
       "    </tr>\n",
       "    <tr>\n",
       "      <th>203</th>\n",
       "      <td>-1</td>\n",
       "      <td>95</td>\n",
       "      <td>volvo</td>\n",
       "      <td>diesel</td>\n",
       "      <td>turbo</td>\n",
       "      <td>four</td>\n",
       "      <td>sedan</td>\n",
       "      <td>rwd</td>\n",
       "      <td>front</td>\n",
       "      <td>109.1</td>\n",
       "      <td>...</td>\n",
       "      <td>145</td>\n",
       "      <td>idi</td>\n",
       "      <td>3.01</td>\n",
       "      <td>3.40</td>\n",
       "      <td>23.0</td>\n",
       "      <td>106</td>\n",
       "      <td>4800</td>\n",
       "      <td>26</td>\n",
       "      <td>27</td>\n",
       "      <td>22470</td>\n",
       "    </tr>\n",
       "    <tr>\n",
       "      <th>204</th>\n",
       "      <td>-1</td>\n",
       "      <td>95</td>\n",
       "      <td>volvo</td>\n",
       "      <td>gas</td>\n",
       "      <td>turbo</td>\n",
       "      <td>four</td>\n",
       "      <td>sedan</td>\n",
       "      <td>rwd</td>\n",
       "      <td>front</td>\n",
       "      <td>109.1</td>\n",
       "      <td>...</td>\n",
       "      <td>141</td>\n",
       "      <td>mpfi</td>\n",
       "      <td>3.78</td>\n",
       "      <td>3.15</td>\n",
       "      <td>9.5</td>\n",
       "      <td>114</td>\n",
       "      <td>5400</td>\n",
       "      <td>19</td>\n",
       "      <td>25</td>\n",
       "      <td>22625</td>\n",
       "    </tr>\n",
       "  </tbody>\n",
       "</table>\n",
       "<p>5 rows × 26 columns</p>\n",
       "</div>"
      ],
      "text/plain": [
       "     symboling normalized-losses   make fuel-type aspiration num-of-doors  \\\n",
       "200         -1                95  volvo       gas        std         four   \n",
       "201         -1                95  volvo       gas      turbo         four   \n",
       "202         -1                95  volvo       gas        std         four   \n",
       "203         -1                95  volvo    diesel      turbo         four   \n",
       "204         -1                95  volvo       gas      turbo         four   \n",
       "\n",
       "    body-style drive-wheels engine-location  wheel-base  ...    engine-size  \\\n",
       "200      sedan          rwd           front       109.1  ...            141   \n",
       "201      sedan          rwd           front       109.1  ...            141   \n",
       "202      sedan          rwd           front       109.1  ...            173   \n",
       "203      sedan          rwd           front       109.1  ...            145   \n",
       "204      sedan          rwd           front       109.1  ...            141   \n",
       "\n",
       "     fuel-system  bore  stroke compression-ratio horsepower  peak-rpm  \\\n",
       "200         mpfi  3.78    3.15               9.5        114      5400   \n",
       "201         mpfi  3.78    3.15               8.7        160      5300   \n",
       "202         mpfi  3.58    2.87               8.8        134      5500   \n",
       "203          idi  3.01    3.40              23.0        106      4800   \n",
       "204         mpfi  3.78    3.15               9.5        114      5400   \n",
       "\n",
       "    city-mpg highway-mpg  price  \n",
       "200       23          28  16845  \n",
       "201       19          25  19045  \n",
       "202       18          23  21485  \n",
       "203       26          27  22470  \n",
       "204       19          25  22625  \n",
       "\n",
       "[5 rows x 26 columns]"
      ]
     },
     "execution_count": 1454,
     "metadata": {},
     "output_type": "execute_result"
    }
   ],
   "source": [
    "cars.tail()"
   ]
  },
  {
   "cell_type": "markdown",
   "metadata": {},
   "source": [
    "On the first look there are some major issues with the data types. \n",
    "For example num-of-doors is a \"non-null object\". This points out to data type \"string\".\n",
    "A closer look seems necessary.\n",
    "Also missing values are coded with a question mark it seems."
   ]
  },
  {
   "cell_type": "code",
   "execution_count": 1455,
   "metadata": {},
   "outputs": [
    {
     "name": "stdout",
     "output_type": "stream",
     "text": [
      "symboling <class 'numpy.int64'>\n",
      "normalized-losses <class 'str'>\n",
      "make <class 'str'>\n",
      "fuel-type <class 'str'>\n",
      "aspiration <class 'str'>\n",
      "num-of-doors <class 'str'>\n",
      "body-style <class 'str'>\n",
      "drive-wheels <class 'str'>\n",
      "engine-location <class 'str'>\n",
      "wheel-base <class 'numpy.float64'>\n",
      "length <class 'numpy.float64'>\n",
      "width <class 'numpy.float64'>\n",
      "height <class 'numpy.float64'>\n",
      "curb-weight <class 'numpy.int64'>\n",
      "engine-type <class 'str'>\n",
      "num-of-cylinders <class 'str'>\n",
      "engine-size <class 'numpy.int64'>\n",
      "fuel-system <class 'str'>\n",
      "bore <class 'str'>\n",
      "stroke <class 'str'>\n",
      "compression-ratio <class 'numpy.float64'>\n",
      "horsepower <class 'str'>\n",
      "peak-rpm <class 'str'>\n",
      "city-mpg <class 'numpy.int64'>\n",
      "highway-mpg <class 'numpy.int64'>\n",
      "price <class 'str'>\n"
     ]
    }
   ],
   "source": [
    "for i in cars.columns:\n",
    "    print(i, type(cars.iloc[5][i]))"
   ]
  },
  {
   "cell_type": "markdown",
   "metadata": {},
   "source": [
    "There are clearly issues with the data types.\n",
    "Even the important target variable price is coded as a string, but it should be a continuous variable."
   ]
  },
  {
   "cell_type": "markdown",
   "metadata": {},
   "source": [
    "Target variable: price."
   ]
  },
  {
   "cell_type": "code",
   "execution_count": 1456,
   "metadata": {},
   "outputs": [
    {
     "data": {
      "text/plain": [
       "10    16430\n",
       "11    16925\n",
       "12    20970\n",
       "13    21105\n",
       "14    24565\n",
       "Name: price, dtype: object"
      ]
     },
     "execution_count": 1456,
     "metadata": {},
     "output_type": "execute_result"
    }
   ],
   "source": [
    "cars[10:15]['price']"
   ]
  },
  {
   "cell_type": "code",
   "execution_count": 1457,
   "metadata": {},
   "outputs": [
    {
     "name": "stdout",
     "output_type": "stream",
     "text": [
      "<class 'pandas.core.series.Series'>\n",
      "<class 'str'>\n"
     ]
    }
   ],
   "source": [
    "print(type(cars['price']))\n",
    "print(type(cars.iloc[10]['price']))"
   ]
  },
  {
   "cell_type": "markdown",
   "metadata": {},
   "source": [
    "The price variable should be of course a continuous variable."
   ]
  },
  {
   "cell_type": "markdown",
   "metadata": {},
   "source": [
    "Missing values?"
   ]
  },
  {
   "cell_type": "code",
   "execution_count": 1458,
   "metadata": {},
   "outputs": [
    {
     "data": {
      "text/plain": [
       "0"
      ]
     },
     "execution_count": 1458,
     "metadata": {},
     "output_type": "execute_result"
    }
   ],
   "source": [
    "cars['price'].isnull().sum()"
   ]
  },
  {
   "cell_type": "code",
   "execution_count": 1459,
   "metadata": {},
   "outputs": [
    {
     "name": "stdout",
     "output_type": "stream",
     "text": [
      "[0, 0, 0, 0, 0, 0, 0, 0, 0, 1, 0, 0, 0, 0, 0, 0, 0, 0, 0, 0, 0, 0, 0, 0, 0, 0, 0, 0, 0, 0, 0, 0, 0, 0, 0, 0, 0, 0, 0, 0, 0, 0, 0, 0, 1, 1, 0, 0, 0, 0, 0, 0, 0, 0, 0, 0, 0, 0, 0, 0, 0, 0, 0, 0, 0, 0, 0, 0, 0, 0, 0, 0, 0, 0, 0, 0, 0, 0, 0, 0, 0, 0, 0, 0, 0, 0, 0, 0, 0, 0, 0, 0, 0, 0, 0, 0, 0, 0, 0, 0, 0, 0, 0, 0, 0, 0, 0, 0, 0, 0, 0, 0, 0, 0, 0, 0, 0, 0, 0, 0, 0, 0, 0, 0, 0, 0, 0, 0, 0, 1, 0, 0, 0, 0, 0, 0, 0, 0, 0, 0, 0, 0, 0, 0, 0, 0, 0, 0, 0, 0, 0, 0, 0, 0, 0, 0, 0, 0, 0, 0, 0, 0, 0, 0, 0, 0, 0, 0, 0, 0, 0, 0, 0, 0, 0, 0, 0, 0, 0, 0, 0, 0, 0, 0, 0, 0, 0, 0, 0, 0, 0, 0, 0, 0, 0, 0, 0, 0, 0, 0, 0, 0, 0, 0, 0]\n",
      "4\n"
     ]
    }
   ],
   "source": [
    "# cars['price'].unique()\n",
    "questionmark_or_not = list()\n",
    "\n",
    "for i in cars['price']:\n",
    "    if i == \"?\": \n",
    "        questionmark_or_not.append(1)\n",
    "    else:\n",
    "        questionmark_or_not.append(0)\n",
    "        \n",
    "print(questionmark_or_not)\n",
    "print(sum(questionmark_or_not))"
   ]
  },
  {
   "cell_type": "code",
   "execution_count": 1460,
   "metadata": {},
   "outputs": [
    {
     "data": {
      "text/plain": [
       "4"
      ]
     },
     "execution_count": 1460,
     "metadata": {},
     "output_type": "execute_result"
    }
   ],
   "source": [
    "number_questionmarks = sum([1 for x in cars['price'] if x ==\"?\"])\n",
    "number_questionmarks"
   ]
  },
  {
   "cell_type": "markdown",
   "metadata": {},
   "source": [
    "Missing values? How many question marks are there in any variable?"
   ]
  },
  {
   "cell_type": "code",
   "execution_count": 1461,
   "metadata": {},
   "outputs": [
    {
     "data": {
      "text/plain": [
       "symboling            0\n",
       "normalized-losses    0\n",
       "make                 0\n",
       "fuel-type            0\n",
       "aspiration           0\n",
       "dtype: int64"
      ]
     },
     "execution_count": 1461,
     "metadata": {},
     "output_type": "execute_result"
    }
   ],
   "source": [
    "cars.isnull().sum()[0:5]\n",
    "# There none null values because missing values are coded as \"?\"."
   ]
  },
  {
   "cell_type": "code",
   "execution_count": 1462,
   "metadata": {},
   "outputs": [
    {
     "data": {
      "text/plain": [
       "Index(['symboling', 'normalized-losses', 'make', 'fuel-type', 'aspiration',\n",
       "       'num-of-doors', 'body-style', 'drive-wheels', 'engine-location',\n",
       "       'wheel-base', 'length', 'width', 'height', 'curb-weight', 'engine-type',\n",
       "       'num-of-cylinders', 'engine-size', 'fuel-system', 'bore', 'stroke',\n",
       "       'compression-ratio', 'horsepower', 'peak-rpm', 'city-mpg',\n",
       "       'highway-mpg', 'price'],\n",
       "      dtype='object')"
      ]
     },
     "execution_count": 1462,
     "metadata": {},
     "output_type": "execute_result"
    }
   ],
   "source": [
    "cars.columns"
   ]
  },
  {
   "cell_type": "code",
   "execution_count": 1463,
   "metadata": {},
   "outputs": [
    {
     "name": "stdout",
     "output_type": "stream",
     "text": [
      "{'symboling': 0, 'normalized-losses': 41, 'make': 0, 'fuel-type': 0, 'aspiration': 0, 'num-of-doors': 2, 'body-style': 0, 'drive-wheels': 0, 'engine-location': 0, 'wheel-base': 0, 'length': 0, 'width': 0, 'height': 0, 'curb-weight': 0, 'engine-type': 0, 'num-of-cylinders': 0, 'engine-size': 0, 'fuel-system': 0, 'bore': 4, 'stroke': 4, 'compression-ratio': 0, 'horsepower': 2, 'peak-rpm': 2, 'city-mpg': 0, 'highway-mpg': 0, 'price': 4}\n"
     ]
    }
   ],
   "source": [
    "qm_per_column = dict()\n",
    "\n",
    "for i in cars.columns:\n",
    "    nq=sum([1 for x in cars[i] if x ==\"?\"])\n",
    "    qm_per_column[i] = nq\n",
    "    \n",
    "print(qm_per_column)"
   ]
  },
  {
   "cell_type": "code",
   "execution_count": 1464,
   "metadata": {},
   "outputs": [],
   "source": [
    "cars_2 = cars.copy()"
   ]
  },
  {
   "cell_type": "code",
   "execution_count": 1465,
   "metadata": {},
   "outputs": [],
   "source": [
    "cars_2=cars_2.replace(\"?\", np.nan)"
   ]
  },
  {
   "cell_type": "code",
   "execution_count": 1466,
   "metadata": {},
   "outputs": [
    {
     "name": "stdout",
     "output_type": "stream",
     "text": [
      "<class 'pandas.core.series.Series'>\n",
      "Index(['symboling', 'normalized-losses', 'make', 'fuel-type', 'aspiration',\n",
      "       'num-of-doors', 'body-style', 'drive-wheels', 'engine-location',\n",
      "       'wheel-base', 'length', 'width', 'height', 'curb-weight', 'engine-type',\n",
      "       'num-of-cylinders', 'engine-size', 'fuel-system', 'bore', 'stroke',\n",
      "       'compression-ratio', 'horsepower', 'peak-rpm', 'city-mpg',\n",
      "       'highway-mpg', 'price'],\n",
      "      dtype='object')\n"
     ]
    }
   ],
   "source": [
    "car2_null_series=cars_2.isnull().sum()\n",
    "print(type(car2_null_series))\n",
    "# print(bb)\n",
    "print(car2_null_series.index)\n",
    "# print(bb.index[0])"
   ]
  },
  {
   "cell_type": "code",
   "execution_count": 1467,
   "metadata": {},
   "outputs": [
    {
     "name": "stdout",
     "output_type": "stream",
     "text": [
      "normalized-losses : 41\n",
      "num-of-doors : 2\n",
      "bore : 4\n",
      "stroke : 4\n",
      "horsepower : 2\n",
      "peak-rpm : 2\n",
      "price : 4\n"
     ]
    }
   ],
   "source": [
    "cars2_index = list(car2_null_series.index)\n",
    "for a, i in zip(cars2_index, car2_null_series):\n",
    "    if i != 0:\n",
    "        print (a, \":\", i)"
   ]
  },
  {
   "cell_type": "code",
   "execution_count": 1468,
   "metadata": {},
   "outputs": [],
   "source": [
    "cars_2 = cars.copy()"
   ]
  },
  {
   "cell_type": "code",
   "execution_count": 1469,
   "metadata": {},
   "outputs": [],
   "source": [
    "cars_2=cars_2.replace(\"?\", np.nan)"
   ]
  },
  {
   "cell_type": "code",
   "execution_count": 1470,
   "metadata": {},
   "outputs": [
    {
     "name": "stdout",
     "output_type": "stream",
     "text": [
      "<class 'pandas.core.series.Series'>\n",
      "Index(['symboling', 'normalized-losses', 'make', 'fuel-type', 'aspiration',\n",
      "       'num-of-doors', 'body-style', 'drive-wheels', 'engine-location',\n",
      "       'wheel-base', 'length', 'width', 'height', 'curb-weight', 'engine-type',\n",
      "       'num-of-cylinders', 'engine-size', 'fuel-system', 'bore', 'stroke',\n",
      "       'compression-ratio', 'horsepower', 'peak-rpm', 'city-mpg',\n",
      "       'highway-mpg', 'price'],\n",
      "      dtype='object')\n"
     ]
    }
   ],
   "source": [
    "car2_null_series=cars_2.isnull().sum()\n",
    "print(type(car2_null_series))\n",
    "# print(bb)\n",
    "print(car2_null_series.index)\n",
    "# print(bb.index[0])"
   ]
  },
  {
   "cell_type": "code",
   "execution_count": 1471,
   "metadata": {},
   "outputs": [
    {
     "name": "stdout",
     "output_type": "stream",
     "text": [
      "normalized-losses : 41\n",
      "num-of-doors : 2\n",
      "bore : 4\n",
      "stroke : 4\n",
      "horsepower : 2\n",
      "peak-rpm : 2\n",
      "price : 4\n"
     ]
    }
   ],
   "source": [
    "cars2_index = list(car2_null_series.index)\n",
    "for a, i in zip(cars2_index, car2_null_series):\n",
    "    if i != 0:\n",
    "        print (a, \":\", i)"
   ]
  },
  {
   "cell_type": "markdown",
   "metadata": {},
   "source": [
    "Missing values: impute or drop or not using the variable as feature?<br>\n",
    "In a data set with 205 observations dropping 41 could records of \"normalized-losses\"<br>\n",
    "would have an impact on the quality of the data. <br>\n",
    "The other columns have less missing values and therefore less impact."
   ]
  },
  {
   "cell_type": "markdown",
   "metadata": {},
   "source": [
    "Imputing missing values in 'normalized-losses' with the median of this variable."
   ]
  },
  {
   "cell_type": "code",
   "execution_count": 1472,
   "metadata": {},
   "outputs": [
    {
     "data": {
      "text/plain": [
       "numpy.float64"
      ]
     },
     "execution_count": 1472,
     "metadata": {},
     "output_type": "execute_result"
    }
   ],
   "source": [
    "cars_2['normalized-losses'] = cars_2['normalized-losses'].astype(float)\n",
    "type(cars_2.loc[4, 'normalized-losses'])"
   ]
  },
  {
   "cell_type": "code",
   "execution_count": 1473,
   "metadata": {},
   "outputs": [
    {
     "name": "stdout",
     "output_type": "stream",
     "text": [
      "0      NaN\n",
      "1      NaN\n",
      "2      NaN\n",
      "3    164.0\n",
      "4    164.0\n",
      "Name: normalized-losses, dtype: float64\n"
     ]
    }
   ],
   "source": [
    "print(cars_2[0:5]['normalized-losses'])"
   ]
  },
  {
   "cell_type": "code",
   "execution_count": 1474,
   "metadata": {},
   "outputs": [],
   "source": [
    "cars_2['normalized-losses'] = cars_2['normalized-losses'].fillna(cars_2['normalized-losses'].median())"
   ]
  },
  {
   "cell_type": "code",
   "execution_count": 1475,
   "metadata": {},
   "outputs": [
    {
     "data": {
      "text/plain": [
       "count    205.000000\n",
       "mean     120.600000\n",
       "std       31.805105\n",
       "min       65.000000\n",
       "25%      101.000000\n",
       "50%      115.000000\n",
       "75%      137.000000\n",
       "max      256.000000\n",
       "Name: normalized-losses, dtype: float64"
      ]
     },
     "execution_count": 1475,
     "metadata": {},
     "output_type": "execute_result"
    }
   ],
   "source": [
    "cars_2['normalized-losses'].describe()"
   ]
  },
  {
   "cell_type": "markdown",
   "metadata": {},
   "source": [
    "Drop all the remaining nan-observations from the data frame."
   ]
  },
  {
   "cell_type": "code",
   "execution_count": 1476,
   "metadata": {},
   "outputs": [],
   "source": [
    "continuous_features = [\"symboling\", \"normalized-losses\",\n",
    "\"wheel-base\",\n",
    "\"length\",\n",
    "\"width\",\n",
    "\"height\",\n",
    "\"curb-weight\",\n",
    "\"engine-size\",\n",
    "\"bore\",\n",
    "\"stroke\",\n",
    "\"compression-ratio\",\n",
    "\"horsepower\",\n",
    "\"peak-rpm\",\n",
    "\"city-mpg\",\n",
    "\"highway-mpg\",\n",
    "\"price\"]\n",
    "\n"
   ]
  },
  {
   "cell_type": "code",
   "execution_count": 1477,
   "metadata": {},
   "outputs": [],
   "source": [
    "for i in continuous_features:\n",
    "    cars_2[i]=cars_2[i].astype(np.float64)"
   ]
  },
  {
   "cell_type": "code",
   "execution_count": 1478,
   "metadata": {},
   "outputs": [],
   "source": [
    "cars_2 = cars_2.dropna()"
   ]
  },
  {
   "cell_type": "code",
   "execution_count": 1479,
   "metadata": {},
   "outputs": [
    {
     "data": {
      "text/plain": [
       "symboling            0\n",
       "normalized-losses    0\n",
       "make                 0\n",
       "fuel-type            0\n",
       "aspiration           0\n",
       "num-of-doors         0\n",
       "body-style           0\n",
       "drive-wheels         0\n",
       "engine-location      0\n",
       "wheel-base           0\n",
       "length               0\n",
       "width                0\n",
       "height               0\n",
       "curb-weight          0\n",
       "engine-type          0\n",
       "num-of-cylinders     0\n",
       "engine-size          0\n",
       "fuel-system          0\n",
       "bore                 0\n",
       "stroke               0\n",
       "compression-ratio    0\n",
       "horsepower           0\n",
       "peak-rpm             0\n",
       "city-mpg             0\n",
       "highway-mpg          0\n",
       "price                0\n",
       "dtype: int64"
      ]
     },
     "execution_count": 1479,
     "metadata": {},
     "output_type": "execute_result"
    }
   ],
   "source": [
    "cars_2.isnull().sum()"
   ]
  },
  {
   "cell_type": "code",
   "execution_count": 1480,
   "metadata": {},
   "outputs": [],
   "source": [
    "continuous_features = [\"normalized-losses\",\n",
    "\"wheel-base\",\n",
    "\"length\",\n",
    "\"width\",\n",
    "\"height\",\n",
    "\"curb-weight\",\n",
    "\"engine-size\",\n",
    "\"bore\",\n",
    "\"stroke\",\n",
    "\"compression-ratio\",\n",
    "\"horsepower\",\n",
    "\"peak-rpm\",\n",
    "\"city-mpg\",\n",
    "\"highway-mpg\",\n",
    "\"price\"]"
   ]
  },
  {
   "cell_type": "code",
   "execution_count": 1481,
   "metadata": {},
   "outputs": [
    {
     "data": {
      "text/plain": [
       "['normalized-losses',\n",
       " 'wheel-base',\n",
       " 'length',\n",
       " 'width',\n",
       " 'height',\n",
       " 'curb-weight',\n",
       " 'engine-size',\n",
       " 'bore',\n",
       " 'stroke',\n",
       " 'compression-ratio',\n",
       " 'horsepower',\n",
       " 'peak-rpm',\n",
       " 'city-mpg',\n",
       " 'highway-mpg',\n",
       " 'price']"
      ]
     },
     "execution_count": 1481,
     "metadata": {},
     "output_type": "execute_result"
    }
   ],
   "source": [
    "continuous_features"
   ]
  },
  {
   "cell_type": "markdown",
   "metadata": {},
   "source": [
    "Feature selection: continuous variables are selected as features."
   ]
  },
  {
   "cell_type": "code",
   "execution_count": 1482,
   "metadata": {},
   "outputs": [
    {
     "name": "stdout",
     "output_type": "stream",
     "text": [
      "<class 'pandas.core.frame.DataFrame'>\n",
      "Int64Index: 193 entries, 0 to 204\n",
      "Data columns (total 15 columns):\n",
      "normalized-losses    193 non-null float64\n",
      "wheel-base           193 non-null float64\n",
      "length               193 non-null float64\n",
      "width                193 non-null float64\n",
      "height               193 non-null float64\n",
      "curb-weight          193 non-null float64\n",
      "engine-size          193 non-null float64\n",
      "bore                 193 non-null float64\n",
      "stroke               193 non-null float64\n",
      "compression-ratio    193 non-null float64\n",
      "horsepower           193 non-null float64\n",
      "peak-rpm             193 non-null float64\n",
      "city-mpg             193 non-null float64\n",
      "highway-mpg          193 non-null float64\n",
      "price                193 non-null float64\n",
      "dtypes: float64(15)\n",
      "memory usage: 24.1 KB\n"
     ]
    }
   ],
   "source": [
    "cars_3 = cars_2.copy()\n",
    "cars_3 = cars_3[continuous_features]\n",
    "cars_3.info()\n",
    "# cars_3.isnull().sum()"
   ]
  },
  {
   "cell_type": "markdown",
   "metadata": {
    "collapsed": true
   },
   "source": [
    "Data transformation: Normalizing the features with min-max except the price variable."
   ]
  },
  {
   "cell_type": "code",
   "execution_count": 1483,
   "metadata": {},
   "outputs": [
    {
     "data": {
      "text/html": [
       "<div>\n",
       "<style>\n",
       "    .dataframe thead tr:only-child th {\n",
       "        text-align: right;\n",
       "    }\n",
       "\n",
       "    .dataframe thead th {\n",
       "        text-align: left;\n",
       "    }\n",
       "\n",
       "    .dataframe tbody tr th {\n",
       "        vertical-align: top;\n",
       "    }\n",
       "</style>\n",
       "<table border=\"1\" class=\"dataframe\">\n",
       "  <thead>\n",
       "    <tr style=\"text-align: right;\">\n",
       "      <th></th>\n",
       "      <th>normalized-losses</th>\n",
       "      <th>wheel-base</th>\n",
       "      <th>length</th>\n",
       "      <th>width</th>\n",
       "      <th>height</th>\n",
       "      <th>curb-weight</th>\n",
       "      <th>engine-size</th>\n",
       "      <th>bore</th>\n",
       "      <th>stroke</th>\n",
       "      <th>compression-ratio</th>\n",
       "      <th>horsepower</th>\n",
       "      <th>peak-rpm</th>\n",
       "      <th>city-mpg</th>\n",
       "      <th>highway-mpg</th>\n",
       "      <th>price</th>\n",
       "    </tr>\n",
       "  </thead>\n",
       "  <tbody>\n",
       "    <tr>\n",
       "      <th>0</th>\n",
       "      <td>0.261780</td>\n",
       "      <td>0.058309</td>\n",
       "      <td>0.413433</td>\n",
       "      <td>0.324786</td>\n",
       "      <td>0.083333</td>\n",
       "      <td>0.411171</td>\n",
       "      <td>0.260377</td>\n",
       "      <td>0.664286</td>\n",
       "      <td>0.290476</td>\n",
       "      <td>0.1250</td>\n",
       "      <td>0.294393</td>\n",
       "      <td>0.346939</td>\n",
       "      <td>0.222222</td>\n",
       "      <td>0.289474</td>\n",
       "      <td>13495.0</td>\n",
       "    </tr>\n",
       "    <tr>\n",
       "      <th>1</th>\n",
       "      <td>0.261780</td>\n",
       "      <td>0.058309</td>\n",
       "      <td>0.413433</td>\n",
       "      <td>0.324786</td>\n",
       "      <td>0.083333</td>\n",
       "      <td>0.411171</td>\n",
       "      <td>0.260377</td>\n",
       "      <td>0.664286</td>\n",
       "      <td>0.290476</td>\n",
       "      <td>0.1250</td>\n",
       "      <td>0.294393</td>\n",
       "      <td>0.346939</td>\n",
       "      <td>0.222222</td>\n",
       "      <td>0.289474</td>\n",
       "      <td>16500.0</td>\n",
       "    </tr>\n",
       "    <tr>\n",
       "      <th>2</th>\n",
       "      <td>0.261780</td>\n",
       "      <td>0.230321</td>\n",
       "      <td>0.449254</td>\n",
       "      <td>0.444444</td>\n",
       "      <td>0.383333</td>\n",
       "      <td>0.517843</td>\n",
       "      <td>0.343396</td>\n",
       "      <td>0.100000</td>\n",
       "      <td>0.666667</td>\n",
       "      <td>0.1250</td>\n",
       "      <td>0.495327</td>\n",
       "      <td>0.346939</td>\n",
       "      <td>0.166667</td>\n",
       "      <td>0.263158</td>\n",
       "      <td>16500.0</td>\n",
       "    </tr>\n",
       "    <tr>\n",
       "      <th>3</th>\n",
       "      <td>0.518325</td>\n",
       "      <td>0.384840</td>\n",
       "      <td>0.529851</td>\n",
       "      <td>0.504274</td>\n",
       "      <td>0.541667</td>\n",
       "      <td>0.329325</td>\n",
       "      <td>0.181132</td>\n",
       "      <td>0.464286</td>\n",
       "      <td>0.633333</td>\n",
       "      <td>0.1875</td>\n",
       "      <td>0.252336</td>\n",
       "      <td>0.551020</td>\n",
       "      <td>0.305556</td>\n",
       "      <td>0.368421</td>\n",
       "      <td>13950.0</td>\n",
       "    </tr>\n",
       "    <tr>\n",
       "      <th>4</th>\n",
       "      <td>0.518325</td>\n",
       "      <td>0.373178</td>\n",
       "      <td>0.529851</td>\n",
       "      <td>0.521368</td>\n",
       "      <td>0.541667</td>\n",
       "      <td>0.518231</td>\n",
       "      <td>0.283019</td>\n",
       "      <td>0.464286</td>\n",
       "      <td>0.633333</td>\n",
       "      <td>0.0625</td>\n",
       "      <td>0.313084</td>\n",
       "      <td>0.551020</td>\n",
       "      <td>0.138889</td>\n",
       "      <td>0.157895</td>\n",
       "      <td>17450.0</td>\n",
       "    </tr>\n",
       "  </tbody>\n",
       "</table>\n",
       "</div>"
      ],
      "text/plain": [
       "   normalized-losses  wheel-base    length     width    height  curb-weight  \\\n",
       "0           0.261780    0.058309  0.413433  0.324786  0.083333     0.411171   \n",
       "1           0.261780    0.058309  0.413433  0.324786  0.083333     0.411171   \n",
       "2           0.261780    0.230321  0.449254  0.444444  0.383333     0.517843   \n",
       "3           0.518325    0.384840  0.529851  0.504274  0.541667     0.329325   \n",
       "4           0.518325    0.373178  0.529851  0.521368  0.541667     0.518231   \n",
       "\n",
       "   engine-size      bore    stroke  compression-ratio  horsepower  peak-rpm  \\\n",
       "0     0.260377  0.664286  0.290476             0.1250    0.294393  0.346939   \n",
       "1     0.260377  0.664286  0.290476             0.1250    0.294393  0.346939   \n",
       "2     0.343396  0.100000  0.666667             0.1250    0.495327  0.346939   \n",
       "3     0.181132  0.464286  0.633333             0.1875    0.252336  0.551020   \n",
       "4     0.283019  0.464286  0.633333             0.0625    0.313084  0.551020   \n",
       "\n",
       "   city-mpg  highway-mpg    price  \n",
       "0  0.222222     0.289474  13495.0  \n",
       "1  0.222222     0.289474  16500.0  \n",
       "2  0.166667     0.263158  16500.0  \n",
       "3  0.305556     0.368421  13950.0  \n",
       "4  0.138889     0.157895  17450.0  "
      ]
     },
     "execution_count": 1483,
     "metadata": {},
     "output_type": "execute_result"
    }
   ],
   "source": [
    "cars_4 = cars_3.copy()\n",
    "# cars_normal = (cars_4 - cars_4.mean()) / cars_4.std()\n",
    "cars_normal = (cars_4 - cars_4.min())/(cars_4.max() - cars_4.min())\n",
    "cars_normal['price'] = cars_3['price']\n",
    "cars_normal.head()"
   ]
  },
  {
   "cell_type": "code",
   "execution_count": 1484,
   "metadata": {
    "scrolled": true
   },
   "outputs": [
    {
     "name": "stderr",
     "output_type": "stream",
     "text": [
      "C:\\Users\\gamarandor\\Anaconda3\\lib\\site-packages\\matplotlib\\axes\\_axes.py:6521: MatplotlibDeprecationWarning: \n",
      "The 'normed' kwarg was deprecated in Matplotlib 2.1 and will be removed in 3.1. Use 'density' instead.\n",
      "  alternative=\"'density'\", removal=\"3.1\")\n"
     ]
    },
    {
     "data": {
      "image/png": "[encoded data removed]",
      "text/plain": [
       "<Figure size 432x288 with 2 Axes>"
      ]
     },
     "metadata": {
      "needs_background": "light"
     },
     "output_type": "display_data"
    }
   ],
   "source": [
    "fig, axes = plt.subplots(1,2)\n",
    "\n",
    "fig.suptitle('Distribution of the price variable')\n",
    "sns.distplot(cars_normal['price'], ax=axes[0])\n",
    "sns.boxplot(cars_normal['price'], ax=axes[1])\n",
    "sns.set(rc={'figure.figsize':(25,5)})\n",
    "sns.set(style=\"darkgrid\")\n",
    "plt.show()"
   ]
  },
  {
   "cell_type": "code",
   "execution_count": 1485,
   "metadata": {},
   "outputs": [
    {
     "data": {
      "text/plain": [
       "mean      13285.025907\n",
       "std        8089.082886\n",
       "median    10245.000000\n",
       "min        5118.000000\n",
       "max       45400.000000\n",
       "Name: price, dtype: float64"
      ]
     },
     "execution_count": 1485,
     "metadata": {},
     "output_type": "execute_result"
    }
   ],
   "source": [
    "cars_normal['price'].aggregate(['mean', 'std', \"median\", 'min', 'max'])"
   ]
  },
  {
   "cell_type": "code",
   "execution_count": 1486,
   "metadata": {},
   "outputs": [
    {
     "name": "stdout",
     "output_type": "stream",
     "text": [
      "16    41315.0\n",
      "73    40960.0\n",
      "74    45400.0\n",
      "Name: price, dtype: float64\n",
      "3\n"
     ]
    }
   ],
   "source": [
    "price_above_40000 = cars_normal.loc[cars_normal['price'] > 40000, \"price\"]\n",
    "print(price_above_40000)\n",
    "print(len(price_above_40000))"
   ]
  },
  {
   "cell_type": "code",
   "execution_count": 1487,
   "metadata": {},
   "outputs": [
    {
     "data": {
      "text/plain": [
       "14"
      ]
     },
     "execution_count": 1487,
     "metadata": {},
     "output_type": "execute_result"
    }
   ],
   "source": [
    "price_above_30000 = cars_normal.loc[cars_normal['price'] > 30000, \"price\"]\n",
    "len(price_above_30000)"
   ]
  },
  {
   "cell_type": "markdown",
   "metadata": {},
   "source": [
    "There are only three values above 40000. This three values distort the distribution."
   ]
  },
  {
   "cell_type": "code",
   "execution_count": 1488,
   "metadata": {},
   "outputs": [
    {
     "data": {
      "text/plain": [
       "(190, 15)"
      ]
     },
     "execution_count": 1488,
     "metadata": {},
     "output_type": "execute_result"
    }
   ],
   "source": [
    "cars_normal = cars_normal.loc[cars_normal['price']<40000, :]\n",
    "# cars_normal.info()\n",
    "cars_normal.shape"
   ]
  },
  {
   "cell_type": "code",
   "execution_count": 1489,
   "metadata": {},
   "outputs": [
    {
     "data": {
      "image/png": "[encoded data removed]",
      "text/plain": [
       "<Figure size 576x396 with 1 Axes>"
      ]
     },
     "metadata": {},
     "output_type": "display_data"
    }
   ],
   "source": [
    "\n",
    "sns.boxplot(cars_normal['price'])\n",
    "plt.show()"
   ]
  },
  {
   "cell_type": "markdown",
   "metadata": {},
   "source": [
    "Looking at the distributions of the variables using boxplot and histograms."
   ]
  },
  {
   "cell_type": "code",
   "execution_count": 1490,
   "metadata": {},
   "outputs": [
    {
     "data": {
      "image/png": "[encoded data removed]",
      "text/plain": [
       "<Figure size 1080x1080 with 14 Axes>"
      ]
     },
     "metadata": {},
     "output_type": "display_data"
    }
   ],
   "source": [
    "\n",
    "\n",
    "fig = plt.figure()\n",
    "fig.subplots_adjust(hspace=0.4, wspace=0.4)\n",
    "fig.set_figheight(15)\n",
    "fig.set_figwidth(15)\n",
    "\n",
    "for i ,b in zip(range(1, 15), cars_3.columns):\n",
    "    plt.subplot(5, 3, i)\n",
    "    plt.boxplot(cars_normal[b])\n",
    "    plt.title(b)\n",
    "plt.show()"
   ]
  },
  {
   "cell_type": "code",
   "execution_count": 1491,
   "metadata": {},
   "outputs": [
    {
     "data": {
      "image/png": "[encoded data removed]",
      "text/plain": [
       "<Figure size 1080x1080 with 14 Axes>"
      ]
     },
     "metadata": {},
     "output_type": "display_data"
    }
   ],
   "source": [
    "fig_2 = plt.figure()\n",
    "fig_2.subplots_adjust(hspace=0.4, wspace=0.4)\n",
    "fig_2.set_figheight(15)\n",
    "fig_2.set_figwidth(15)\n",
    "\n",
    "for i ,b in zip(range(1, 15), cars_3.columns):\n",
    "    plt.subplot(5, 3, i)\n",
    "    plt.hist(cars_normal[b], color=[\"red\"])\n",
    "    plt.title(b)\n",
    "plt.show()"
   ]
  },
  {
   "cell_type": "markdown",
   "metadata": {},
   "source": [
    "Does the normalization has an impact on the distribution?"
   ]
  },
  {
   "cell_type": "code",
   "execution_count": 1492,
   "metadata": {},
   "outputs": [
    {
     "data": {
      "text/plain": [
       "Text(0.5, 1.0, 'length distribution not normalized')"
      ]
     },
     "execution_count": 1492,
     "metadata": {},
     "output_type": "execute_result"
    },
    {
     "data": {
      "image/png": "[encoded data removed]",
      "text/plain": [
       "<Figure size 648x288 with 2 Axes>"
      ]
     },
     "metadata": {},
     "output_type": "display_data"
    }
   ],
   "source": [
    "f, (ax1, ax2) = plt.subplots(1, 2, sharey=True)\n",
    "f.subplots_adjust(hspace=0.4, wspace=0.4)\n",
    "f.set_figheight(4)\n",
    "f.set_figwidth(9)\n",
    "ax1.hist(cars_normal[\"length\"], color=[\"red\"])\n",
    "ax1.set_title('length distribution normalized')\n",
    "ax2.hist(cars_3[\"length\"], color=[\"green\"])\n",
    "ax2.set_title('length distribution not normalized')"
   ]
  },
  {
   "cell_type": "code",
   "execution_count": 1493,
   "metadata": {},
   "outputs": [
    {
     "data": {
      "text/plain": [
       "Text(0.5, 1.0, 'horsepower distribution not normalized')"
      ]
     },
     "execution_count": 1493,
     "metadata": {},
     "output_type": "execute_result"
    },
    {
     "data": {
      "image/png": "[encoded data removed]",
      "text/plain": [
       "<Figure size 648x288 with 2 Axes>"
      ]
     },
     "metadata": {},
     "output_type": "display_data"
    }
   ],
   "source": [
    "f, (ax1, ax2) = plt.subplots(1, 2, sharey=True)\n",
    "f.subplots_adjust(hspace=0.4, wspace=0.4)\n",
    "f.set_figheight(4)\n",
    "f.set_figwidth(9)\n",
    "ax1.hist(cars_normal[\"horsepower\"], color=[\"red\"])\n",
    "ax1.set_title('horsepower distribution normalized')\n",
    "ax2.hist(cars_3[\"horsepower\"], color=[\"green\"])\n",
    "ax2.set_title('horsepower distribution not normalized')\n",
    "\n"
   ]
  },
  {
   "cell_type": "markdown",
   "metadata": {},
   "source": [
    "It seems the data transformation did not influence the shape of the distribution."
   ]
  },
  {
   "cell_type": "markdown",
   "metadata": {},
   "source": [
    "### Making price predictions on the cars_normal data set. \n",
    "<p>\n",
    "Doing a train-test-split using scikit-learn functionality.\n",
    "</p>"
   ]
  },
  {
   "cell_type": "code",
   "execution_count": 1494,
   "metadata": {},
   "outputs": [
    {
     "data": {
      "text/plain": [
       "Index(['normalized-losses', 'wheel-base', 'length', 'width', 'height',\n",
       "       'curb-weight', 'engine-size', 'bore', 'stroke', 'compression-ratio',\n",
       "       'horsepower', 'peak-rpm', 'city-mpg', 'highway-mpg', 'price'],\n",
       "      dtype='object')"
      ]
     },
     "execution_count": 1494,
     "metadata": {},
     "output_type": "execute_result"
    }
   ],
   "source": [
    "cars_normal_1 = cars_normal.copy()\n",
    "cars_normal_1.columns"
   ]
  },
  {
   "cell_type": "code",
   "execution_count": 1495,
   "metadata": {},
   "outputs": [],
   "source": [
    "\n",
    "# Creating a series containing the target variable.\n",
    "y1 = cars_normal_1['price']\n",
    "# Creating a data frame containing the features.\n",
    "X1 = cars_normal_1.drop('price', axis=1)\n",
    "\n",
    "# X1.info()\n",
    "# type(y1)\n"
   ]
  },
  {
   "cell_type": "code",
   "execution_count": 1496,
   "metadata": {},
   "outputs": [
    {
     "name": "stdout",
     "output_type": "stream",
     "text": [
      "(127, 14) (63, 14) (127,) (63,)\n"
     ]
    }
   ],
   "source": [
    "\n",
    "# sklearn.model_selection.train_test_split(*arrays, **options)\n",
    "# https://scikit-learn.org/stable/modules/generated/sklearn.model_selection.train_test_split.html\n",
    "# >>> X_train, X_test, y_train, y_test = train_test_split(X, y, test_size=0.33, random_state=42)\n",
    "X1_train, X1_test, y1_train, y1_test= train_test_split(X1, y1, test_size=0.33, random_state=42)\n",
    "\n",
    "print(X1_train.shape, X1_test.shape, y1_train.shape, y1_test.shape)"
   ]
  },
  {
   "cell_type": "markdown",
   "metadata": {},
   "source": [
    "Train, test and evaluate a K nearest neighbour model using all variables of cars_normal as features."
   ]
  },
  {
   "cell_type": "code",
   "execution_count": 1497,
   "metadata": {},
   "outputs": [],
   "source": [
    "\n",
    "knn_1 = KNeighborsRegressor(algorithm='auto', n_neighbors=5)\n",
    "knn_1.fit(X1_train, y1_train)\n",
    "predictions_1 = knn_1.predict(X1_test)\n",
    "mse_1 = mean_squared_error(y1_test, predictions_1)\n",
    "rmse_1 = np.sqrt(mse_1)"
   ]
  },
  {
   "cell_type": "code",
   "execution_count": 1498,
   "metadata": {},
   "outputs": [
    {
     "data": {
      "text/plain": [
       "3017.7489285153524"
      ]
     },
     "execution_count": 1498,
     "metadata": {},
     "output_type": "execute_result"
    }
   ],
   "source": [
    "rmse_1"
   ]
  },
  {
   "cell_type": "markdown",
   "metadata": {},
   "source": [
    "Train, test and evaluate a K nearest neighbour model using only the variable horsepower of cars_normal as features."
   ]
  },
  {
   "cell_type": "code",
   "execution_count": 1499,
   "metadata": {},
   "outputs": [
    {
     "name": "stdout",
     "output_type": "stream",
     "text": [
      "0    0.294393\n",
      "1    0.294393\n",
      "Name: horsepower, dtype: float64\n",
      "(190,)\n",
      "<class 'pandas.core.series.Series'>\n",
      "0    13495.0\n",
      "1    16500.0\n",
      "Name: price, dtype: float64\n",
      "(190,)\n",
      "<class 'pandas.core.series.Series'>\n"
     ]
    }
   ],
   "source": [
    "y2 = cars_normal_1['price']\n",
    "X2 = cars_normal_1['horsepower']\n",
    "\n",
    "print(X2[0:2])\n",
    "print(X2.shape)\n",
    "print(type(X2))\n",
    "print(y2[0:2])\n",
    "print(y2.shape)\n",
    "print(type(y2))"
   ]
  },
  {
   "cell_type": "markdown",
   "metadata": {},
   "source": [
    "Reshaping the pd.series so it will have one column."
   ]
  },
  {
   "cell_type": "code",
   "execution_count": 1500,
   "metadata": {},
   "outputs": [
    {
     "name": "stdout",
     "output_type": "stream",
     "text": [
      "(190, 1)\n",
      "(190, 1)\n"
     ]
    }
   ],
   "source": [
    "y2_array=np.array(y2, dtype=pd.Series)\n",
    "y2_array=y2_array.reshape(-1, 1)\n",
    "print(y2_array.shape)\n",
    "\n",
    "X2_array = np.array(X2, dtype=pd.Series)\n",
    "X2_array = X2_array.reshape(-1,1)\n",
    "print(X2_array.shape)"
   ]
  },
  {
   "cell_type": "code",
   "execution_count": 1501,
   "metadata": {},
   "outputs": [
    {
     "name": "stdout",
     "output_type": "stream",
     "text": [
      "(127, 1) (63, 1) (127, 1) (63, 1)\n"
     ]
    }
   ],
   "source": [
    "X2_train, X2_test, y2_train, y2_test= train_test_split(X2_array , y2_array, test_size=0.33, random_state=42)\n",
    "print(X2_train.shape, X2_test.shape, y2_train.shape, y2_test.shape)"
   ]
  },
  {
   "cell_type": "code",
   "execution_count": 1502,
   "metadata": {},
   "outputs": [],
   "source": [
    "knn_2 = KNeighborsRegressor(algorithm='auto', n_neighbors=5)\n",
    "knn_2.fit(X2_train, y2_train)\n",
    "predictions_2 = knn_2.predict(X2_test)\n",
    "mse_2 = mean_squared_error(y2_test, predictions_2)\n",
    "rmse_2 = np.sqrt(mse_2)"
   ]
  },
  {
   "cell_type": "code",
   "execution_count": 1503,
   "metadata": {},
   "outputs": [
    {
     "data": {
      "text/plain": [
       "4208.4528002656152"
      ]
     },
     "execution_count": 1503,
     "metadata": {},
     "output_type": "execute_result"
    }
   ],
   "source": [
    "rmse_2"
   ]
  },
  {
   "cell_type": "markdown",
   "metadata": {},
   "source": [
    "Train, test and evaluate a K nearest neighbour model using only three variables of cars_normal as features."
   ]
  },
  {
   "cell_type": "code",
   "execution_count": 1504,
   "metadata": {},
   "outputs": [],
   "source": [
    "X3= cars_normal_1[['bore', 'stroke', 'compression-ratio']]\n",
    "y3 = cars_normal_1['price']"
   ]
  },
  {
   "cell_type": "code",
   "execution_count": 1505,
   "metadata": {},
   "outputs": [],
   "source": [
    "X3_train, X3_test, y3_train, y3_test = train_test_split(X3,y3, random_state=55, test_size=0.33)"
   ]
  },
  {
   "cell_type": "code",
   "execution_count": 1506,
   "metadata": {},
   "outputs": [
    {
     "name": "stdout",
     "output_type": "stream",
     "text": [
      "(127, 3) (63, 3) (127,) (63,)\n"
     ]
    }
   ],
   "source": [
    "print(X3_train.shape, X3_test.shape, y3_train.shape, y3_test.shape)"
   ]
  },
  {
   "cell_type": "code",
   "execution_count": 1507,
   "metadata": {},
   "outputs": [],
   "source": [
    "knn_3 = KNeighborsRegressor(algorithm='auto', n_neighbors=5)\n",
    "knn_3.fit(X3_train,  y3_train)\n",
    "predictions_3 = knn_3.predict(X3_test)\n",
    "mse_3 = mean_squared_error(y3_test, predictions_3)\n",
    "rmse_3 = np.sqrt(mse_3)\n"
   ]
  },
  {
   "cell_type": "code",
   "execution_count": 1508,
   "metadata": {},
   "outputs": [
    {
     "data": {
      "text/plain": [
       "4986.6394310435253"
      ]
     },
     "execution_count": 1508,
     "metadata": {},
     "output_type": "execute_result"
    }
   ],
   "source": [
    "rmse_3"
   ]
  },
  {
   "cell_type": "code",
   "execution_count": 1509,
   "metadata": {},
   "outputs": [
    {
     "name": "stdout",
     "output_type": "stream",
     "text": [
      "3017.74892852\n",
      "4208.45280027\n",
      "4986.63943104\n"
     ]
    }
   ],
   "source": [
    "print(rmse_1)\n",
    "print(rmse_2)\n",
    "print(rmse_3)"
   ]
  },
  {
   "cell_type": "markdown",
   "metadata": {},
   "source": [
    "The model with the one feature horsepower and all features perform equally good.\n",
    "Of course the number of nearest neighbors is 5. The variation can lead to \n",
    "diverging results."
   ]
  },
  {
   "cell_type": "markdown",
   "metadata": {},
   "source": [
    "Making a function split, train, test, predict and evaluate the error of the predictions."
   ]
  },
  {
   "cell_type": "code",
   "execution_count": 1510,
   "metadata": {},
   "outputs": [],
   "source": [
    "def knn_train_test(features, target, df):\n",
    "    # input as string - raise warning if not?\n",
    "    X=df[features]\n",
    "    y=df[target]\n",
    "    X_train, X_test, y_train, y_test = train_test_split(X, y, test_size=0.33, random_state=45)\n",
    "    knn = KNeighborsRegressor(algorithm=\"auto\", n_neighbors=5)\n",
    "    knn.fit(X_train, y_train)\n",
    "    predictions = knn.predict(X_test)\n",
    "    mse = mean_squared_error(y_test, predictions)\n",
    "    rmse = np.sqrt(mse)\n",
    "    return rmse\n",
    "    \n",
    "    "
   ]
  },
  {
   "cell_type": "code",
   "execution_count": 1511,
   "metadata": {},
   "outputs": [
    {
     "data": {
      "text/plain": [
       "Index(['normalized-losses', 'wheel-base', 'length', 'width', 'height',\n",
       "       'curb-weight', 'engine-size', 'bore', 'stroke', 'compression-ratio',\n",
       "       'horsepower', 'peak-rpm', 'city-mpg', 'highway-mpg', 'price'],\n",
       "      dtype='object')"
      ]
     },
     "execution_count": 1511,
     "metadata": {},
     "output_type": "execute_result"
    }
   ],
   "source": [
    "cars_normal_1.columns"
   ]
  },
  {
   "cell_type": "code",
   "execution_count": 1512,
   "metadata": {},
   "outputs": [
    {
     "data": {
      "text/plain": [
       "6811.7723470893707"
      ]
     },
     "execution_count": 1512,
     "metadata": {},
     "output_type": "execute_result"
    }
   ],
   "source": [
    "knn_train_test(['bore', 'stroke', 'compression-ratio'], 'price', cars_normal_1 )"
   ]
  },
  {
   "cell_type": "code",
   "execution_count": 1513,
   "metadata": {},
   "outputs": [
    {
     "data": {
      "text/plain": [
       "5928.9792217065979"
      ]
     },
     "execution_count": 1513,
     "metadata": {},
     "output_type": "execute_result"
    }
   ],
   "source": [
    "knn_train_test(['bore'], 'price', cars_normal_1 )"
   ]
  },
  {
   "cell_type": "code",
   "execution_count": 1514,
   "metadata": {},
   "outputs": [
    {
     "data": {
      "text/plain": [
       "['normalized-losses',\n",
       " 'wheel-base',\n",
       " 'length',\n",
       " 'width',\n",
       " 'height',\n",
       " 'curb-weight',\n",
       " 'engine-size',\n",
       " 'bore',\n",
       " 'stroke',\n",
       " 'compression-ratio',\n",
       " 'horsepower',\n",
       " 'peak-rpm',\n",
       " 'city-mpg',\n",
       " 'highway-mpg']"
      ]
     },
     "execution_count": 1514,
     "metadata": {},
     "output_type": "execute_result"
    }
   ],
   "source": [
    "# Make a list of name of all features excluding price\n",
    "features_all_55 = list(cars_normal_1.columns)\n",
    "del features_all_55[-1]\n",
    "features_all_55"
   ]
  },
  {
   "cell_type": "code",
   "execution_count": 1515,
   "metadata": {},
   "outputs": [
    {
     "data": {
      "text/plain": [
       "3602.7459404058886"
      ]
     },
     "execution_count": 1515,
     "metadata": {},
     "output_type": "execute_result"
    }
   ],
   "source": [
    "knn_train_test(features_all_55, 'price', cars_normal_1 )"
   ]
  },
  {
   "cell_type": "code",
   "execution_count": 1516,
   "metadata": {},
   "outputs": [
    {
     "name": "stdout",
     "output_type": "stream",
     "text": [
      "RMSE of normalized-losses : 7172.6465864\n",
      "RMSE of wheel-base : 5912.41440715\n",
      "RMSE of length : 5207.82178163\n",
      "RMSE of width : 3474.54441175\n",
      "RMSE of height : 7632.94454834\n",
      "RMSE of curb-weight : 3445.39996674\n",
      "RMSE of engine-size : 3124.22411834\n",
      "RMSE of bore : 5928.97922171\n",
      "RMSE of stroke : 7117.38944036\n",
      "RMSE of compression-ratio : 6808.47682786\n",
      "RMSE of horsepower : 4449.88093302\n",
      "RMSE of peak-rpm : 6993.46182804\n",
      "RMSE of city-mpg : 3822.67736906\n",
      "RMSE of highway-mpg : 3866.89389341\n"
     ]
    }
   ],
   "source": [
    "RMSE_values_of_one_feature_models = dict()\n",
    "\n",
    "\n",
    "for col in features_all_55:\n",
    "    rmse=knn_train_test([col], 'price', cars_normal_1)\n",
    "    RMSE_values_of_one_feature_models[col] = rmse\n",
    "    print('RMSE of', col, ':' , rmse)\n",
    "    "
   ]
  },
  {
   "cell_type": "code",
   "execution_count": 1517,
   "metadata": {},
   "outputs": [
    {
     "data": {
      "text/plain": [
       "{'bore': 5928.9792217065979,\n",
       " 'city-mpg': 3822.6773690617033,\n",
       " 'compression-ratio': 6808.4768278635975,\n",
       " 'curb-weight': 3445.3999667373378,\n",
       " 'engine-size': 3124.2241183351912,\n",
       " 'height': 7632.944548344055,\n",
       " 'highway-mpg': 3866.8938934055514,\n",
       " 'horsepower': 4449.8809330245276,\n",
       " 'length': 5207.8217816287015,\n",
       " 'normalized-losses': 7172.646586395661,\n",
       " 'peak-rpm': 6993.4618280446375,\n",
       " 'stroke': 7117.3894403576296,\n",
       " 'wheel-base': 5912.414407152527,\n",
       " 'width': 3474.5444117475813}"
      ]
     },
     "execution_count": 1517,
     "metadata": {},
     "output_type": "execute_result"
    }
   ],
   "source": [
    "RMSE_values_of_one_feature_models"
   ]
  },
  {
   "cell_type": "code",
   "execution_count": 1518,
   "metadata": {},
   "outputs": [],
   "source": [
    "RMSE_values_of_one_feature_models_df = pd.DataFrame.from_dict(RMSE_values_of_one_feature_models, orient='index')\n",
    "RMSE_values_of_one_feature_models_df.rename(index=str, columns={0: \"RMSE\"}, inplace=True)"
   ]
  },
  {
   "cell_type": "code",
   "execution_count": 1519,
   "metadata": {},
   "outputs": [
    {
     "data": {
      "text/html": [
       "<div>\n",
       "<style>\n",
       "    .dataframe thead tr:only-child th {\n",
       "        text-align: right;\n",
       "    }\n",
       "\n",
       "    .dataframe thead th {\n",
       "        text-align: left;\n",
       "    }\n",
       "\n",
       "    .dataframe tbody tr th {\n",
       "        vertical-align: top;\n",
       "    }\n",
       "</style>\n",
       "<table border=\"1\" class=\"dataframe\">\n",
       "  <thead>\n",
       "    <tr style=\"text-align: right;\">\n",
       "      <th></th>\n",
       "      <th>RMSE</th>\n",
       "    </tr>\n",
       "  </thead>\n",
       "  <tbody>\n",
       "    <tr>\n",
       "      <th>engine-size</th>\n",
       "      <td>3124.224118</td>\n",
       "    </tr>\n",
       "    <tr>\n",
       "      <th>curb-weight</th>\n",
       "      <td>3445.399967</td>\n",
       "    </tr>\n",
       "    <tr>\n",
       "      <th>width</th>\n",
       "      <td>3474.544412</td>\n",
       "    </tr>\n",
       "    <tr>\n",
       "      <th>city-mpg</th>\n",
       "      <td>3822.677369</td>\n",
       "    </tr>\n",
       "    <tr>\n",
       "      <th>highway-mpg</th>\n",
       "      <td>3866.893893</td>\n",
       "    </tr>\n",
       "    <tr>\n",
       "      <th>horsepower</th>\n",
       "      <td>4449.880933</td>\n",
       "    </tr>\n",
       "    <tr>\n",
       "      <th>length</th>\n",
       "      <td>5207.821782</td>\n",
       "    </tr>\n",
       "    <tr>\n",
       "      <th>wheel-base</th>\n",
       "      <td>5912.414407</td>\n",
       "    </tr>\n",
       "    <tr>\n",
       "      <th>bore</th>\n",
       "      <td>5928.979222</td>\n",
       "    </tr>\n",
       "    <tr>\n",
       "      <th>compression-ratio</th>\n",
       "      <td>6808.476828</td>\n",
       "    </tr>\n",
       "    <tr>\n",
       "      <th>peak-rpm</th>\n",
       "      <td>6993.461828</td>\n",
       "    </tr>\n",
       "    <tr>\n",
       "      <th>stroke</th>\n",
       "      <td>7117.389440</td>\n",
       "    </tr>\n",
       "    <tr>\n",
       "      <th>normalized-losses</th>\n",
       "      <td>7172.646586</td>\n",
       "    </tr>\n",
       "    <tr>\n",
       "      <th>height</th>\n",
       "      <td>7632.944548</td>\n",
       "    </tr>\n",
       "  </tbody>\n",
       "</table>\n",
       "</div>"
      ],
      "text/plain": [
       "                          RMSE\n",
       "engine-size        3124.224118\n",
       "curb-weight        3445.399967\n",
       "width              3474.544412\n",
       "city-mpg           3822.677369\n",
       "highway-mpg        3866.893893\n",
       "horsepower         4449.880933\n",
       "length             5207.821782\n",
       "wheel-base         5912.414407\n",
       "bore               5928.979222\n",
       "compression-ratio  6808.476828\n",
       "peak-rpm           6993.461828\n",
       "stroke             7117.389440\n",
       "normalized-losses  7172.646586\n",
       "height             7632.944548"
      ]
     },
     "execution_count": 1519,
     "metadata": {},
     "output_type": "execute_result"
    }
   ],
   "source": [
    "RMSE_values_of_one_feature_models_df_sort=RMSE_values_of_one_feature_models_df.sort_values(by=\"RMSE\")\n",
    "RMSE_values_of_one_feature_models_df_sort"
   ]
  },
  {
   "cell_type": "markdown",
   "metadata": {},
   "source": [
    "The single feature model based on engine size performs best. The worst performing model is base on height."
   ]
  },
  {
   "cell_type": "code",
   "execution_count": 1520,
   "metadata": {},
   "outputs": [
    {
     "data": {
      "text/plain": [
       "<matplotlib.axes._subplots.AxesSubplot at 0x20e5d4b3be0>"
      ]
     },
     "execution_count": 1520,
     "metadata": {},
     "output_type": "execute_result"
    },
    {
     "data": {
      "image/png": "[encoded data removed]",
      "text/plain": [
       "<Figure size 576x396 with 1 Axes>"
      ]
     },
     "metadata": {},
     "output_type": "display_data"
    }
   ],
   "source": [
    "RMSE_values_of_one_feature_models_df_sort.plot(kind=\"bar\")"
   ]
  },
  {
   "cell_type": "markdown",
   "metadata": {},
   "source": [
    "Augmenting the knn_train_test by different input values of k-nearest neighbors."
   ]
  },
  {
   "cell_type": "code",
   "execution_count": 1521,
   "metadata": {},
   "outputs": [],
   "source": [
    "def knn_train_test_k(features, target, df, k_list ):\n",
    "    # input as string - raise warning if not?\n",
    "    X=df[features]\n",
    "    y=df[target]\n",
    "    X_train, X_test, y_train, y_test = train_test_split(X, y, test_size=0.33, random_state=45)\n",
    "    for k in k_list:\n",
    "        knn = KNeighborsRegressor(algorithm=\"auto\", n_neighbors=k)\n",
    "        knn.fit(X_train, y_train)\n",
    "        predictions = knn.predict(X_test)\n",
    "        mse = mean_squared_error(y_test, predictions)\n",
    "        rmse = np.sqrt(mse)\n",
    "        print(\"Number of k:\", k, rmse)"
   ]
  },
  {
   "cell_type": "code",
   "execution_count": 1522,
   "metadata": {},
   "outputs": [
    {
     "name": "stdout",
     "output_type": "stream",
     "text": [
      "Number of k: 1 3172.67231761\n",
      "Number of k: 2 2966.47423266\n",
      "Number of k: 3 3363.12792017\n",
      "Number of k: 4 3457.43815824\n",
      "Number of k: 5 3602.74594041\n",
      "Number of k: 6 3653.62626521\n",
      "Number of k: 7 3824.32425793\n",
      "Number of k: 8 3836.33975901\n",
      "Number of k: 9 4032.06478433\n",
      "Number of k: 10 4032.87597541\n"
     ]
    }
   ],
   "source": [
    "k_list_1 = [1,2,3,4,5,6,7,8,9,10]\n",
    "knn_train_test_k(features_all_55, 'price', cars_normal_1, k_list_1)"
   ]
  },
  {
   "cell_type": "markdown",
   "metadata": {},
   "source": [
    "The model with k = 2 generates the lowes RMSE based on a model with all features. "
   ]
  },
  {
   "cell_type": "code",
   "execution_count": 1523,
   "metadata": {},
   "outputs": [
    {
     "name": "stdout",
     "output_type": "stream",
     "text": [
      "RMSE of normalized-losses : 7172.6465864\n",
      "RMSE of wheel-base : 5912.41440715\n",
      "RMSE of length : 5207.82178163\n",
      "RMSE of width : 3474.54441175\n",
      "RMSE of height : 7632.94454834\n",
      "RMSE of curb-weight : 3445.39996674\n",
      "RMSE of engine-size : 3124.22411834\n",
      "RMSE of bore : 5928.97922171\n",
      "RMSE of stroke : 7117.38944036\n",
      "RMSE of compression-ratio : 6808.47682786\n",
      "RMSE of horsepower : 4449.88093302\n",
      "RMSE of peak-rpm : 6993.46182804\n",
      "RMSE of city-mpg : 3822.67736906\n",
      "RMSE of highway-mpg : 3866.89389341\n"
     ]
    }
   ],
   "source": [
    "RMSE_values_of_one_feature_models = dict()\n",
    "\n",
    "\n",
    "for col in features_all_55:\n",
    "    rmse=knn_train_test([col], 'price', cars_normal_1)\n",
    "    RMSE_values_of_one_feature_models[col] = rmse\n",
    "    print('RMSE of', col, ':' , rmse)"
   ]
  },
  {
   "cell_type": "code",
   "execution_count": 1524,
   "metadata": {},
   "outputs": [],
   "source": [
    "\n",
    "def knn_train_test_k_one_feature(features, target, df, k_list ):\n",
    "    RMSE_values_of_one_feature_models = dict()\n",
    "    for col in features:\n",
    "            X=df[[col]]\n",
    "            y=df[target]\n",
    "            X_train, X_test, y_train, y_test = train_test_split(X, y, test_size=0.33, random_state=45)\n",
    "            for k in k_list:\n",
    "                knn = KNeighborsRegressor(algorithm=\"auto\", n_neighbors=k)\n",
    "                knn.fit(X_train, y_train)\n",
    "                predictions = knn.predict(X_test)\n",
    "                mse = mean_squared_error(y_test, predictions)\n",
    "                rmse = np.sqrt(mse)\n",
    "                RMSE_values_of_one_feature_models = dict()\n",
    "                RMSE_values_of_one_feature_models[k] = rmse\n",
    "                print(col,\"- k\", k, \":\", rmse)"
   ]
  },
  {
   "cell_type": "code",
   "execution_count": 1525,
   "metadata": {},
   "outputs": [
    {
     "name": "stdout",
     "output_type": "stream",
     "text": [
      "normalized-losses - k 1 : 7655.41955658\n",
      "normalized-losses - k 2 : 7202.95646504\n",
      "normalized-losses - k 3 : 6806.84414066\n",
      "normalized-losses - k 4 : 7042.70041877\n",
      "normalized-losses - k 5 : 7172.6465864\n",
      "normalized-losses - k 6 : 7222.97093811\n",
      "normalized-losses - k 7 : 7164.49099622\n",
      "normalized-losses - k 8 : 7226.49129039\n",
      "normalized-losses - k 9 : 7096.95941528\n",
      "normalized-losses - k 10 : 6921.29897932\n",
      "wheel-base - k 1 : 5219.97631814\n",
      "wheel-base - k 2 : 5406.59895406\n",
      "wheel-base - k 3 : 5730.92157838\n",
      "wheel-base - k 4 : 5863.53199686\n",
      "wheel-base - k 5 : 5912.41440715\n",
      "wheel-base - k 6 : 5839.01693473\n",
      "wheel-base - k 7 : 6033.79052765\n",
      "wheel-base - k 8 : 5945.84797809\n",
      "wheel-base - k 9 : 5998.97753817\n",
      "wheel-base - k 10 : 6090.10134745\n",
      "length - k 1 : 4376.89599189\n",
      "length - k 2 : 4401.19526875\n",
      "length - k 3 : 4747.54467275\n",
      "length - k 4 : 5064.48482618\n",
      "length - k 5 : 5207.82178163\n",
      "length - k 6 : 5482.69218337\n",
      "length - k 7 : 5570.60889147\n",
      "length - k 8 : 5696.50352022\n",
      "length - k 9 : 5716.46744408\n",
      "length - k 10 : 5786.84283393\n",
      "width - k 1 : 4142.10723727\n",
      "width - k 2 : 3406.81626966\n",
      "width - k 3 : 3120.28218012\n",
      "width - k 4 : 3313.90105097\n",
      "width - k 5 : 3474.54441175\n",
      "width - k 6 : 3479.99016614\n",
      "width - k 7 : 3472.58612747\n",
      "width - k 8 : 3463.85714252\n",
      "width - k 9 : 3546.41009128\n",
      "width - k 10 : 3687.04252331\n",
      "height - k 1 : 7839.93913363\n",
      "height - k 2 : 7007.852852\n",
      "height - k 3 : 7167.11290207\n",
      "height - k 4 : 7634.1329015\n",
      "height - k 5 : 7632.94454834\n",
      "height - k 6 : 7469.79065157\n",
      "height - k 7 : 7473.80803907\n",
      "height - k 8 : 7765.30217324\n",
      "height - k 9 : 7613.80181368\n",
      "height - k 10 : 7573.31116463\n",
      "curb-weight - k 1 : 3544.82386783\n",
      "curb-weight - k 2 : 3707.9212671\n",
      "curb-weight - k 3 : 3166.74470163\n",
      "curb-weight - k 4 : 3291.83710424\n",
      "curb-weight - k 5 : 3445.39996674\n",
      "curb-weight - k 6 : 3730.91467099\n",
      "curb-weight - k 7 : 3498.43024509\n",
      "curb-weight - k 8 : 3506.50914372\n",
      "curb-weight - k 9 : 3650.72739833\n",
      "curb-weight - k 10 : 3893.03811937\n",
      "engine-size - k 1 : 3348.44963414\n",
      "engine-size - k 2 : 2839.01268888\n",
      "engine-size - k 3 : 2975.06808927\n",
      "engine-size - k 4 : 2978.66442986\n",
      "engine-size - k 5 : 3124.22411834\n",
      "engine-size - k 6 : 3343.73378135\n",
      "engine-size - k 7 : 3402.06345162\n",
      "engine-size - k 8 : 3432.36060903\n",
      "engine-size - k 9 : 3498.47741155\n",
      "engine-size - k 10 : 3526.59294965\n",
      "bore - k 1 : 6213.87765984\n",
      "bore - k 2 : 6083.03652048\n",
      "bore - k 3 : 5984.17606098\n",
      "bore - k 4 : 5891.89039634\n",
      "bore - k 5 : 5928.97922171\n",
      "bore - k 6 : 6052.44440004\n",
      "bore - k 7 : 6065.76033993\n",
      "bore - k 8 : 6138.45299506\n",
      "bore - k 9 : 6238.02659701\n",
      "bore - k 10 : 6180.04835446\n",
      "stroke - k 1 : 6837.56647976\n",
      "stroke - k 2 : 5867.71982701\n",
      "stroke - k 3 : 6864.04350021\n",
      "stroke - k 4 : 7033.46876456\n",
      "stroke - k 5 : 7117.38944036\n",
      "stroke - k 6 : 6928.94890659\n",
      "stroke - k 7 : 6879.07005582\n",
      "stroke - k 8 : 6903.94190805\n",
      "stroke - k 9 : 6844.18302842\n",
      "stroke - k 10 : 6893.50317377\n",
      "compression-ratio - k 1 : 7389.82608211\n",
      "compression-ratio - k 2 : 6714.56797237\n",
      "compression-ratio - k 3 : 6542.61183129\n",
      "compression-ratio - k 4 : 6734.00215067\n",
      "compression-ratio - k 5 : 6808.47682786\n",
      "compression-ratio - k 6 : 6946.81568929\n",
      "compression-ratio - k 7 : 7072.32349909\n",
      "compression-ratio - k 8 : 7067.40551888\n",
      "compression-ratio - k 9 : 6878.94370098\n",
      "compression-ratio - k 10 : 6849.83691493\n",
      "horsepower - k 1 : 4359.43459455\n",
      "horsepower - k 2 : 4289.59230636\n",
      "horsepower - k 3 : 4659.88567901\n",
      "horsepower - k 4 : 4584.20802411\n",
      "horsepower - k 5 : 4449.88093302\n",
      "horsepower - k 6 : 4362.33372353\n",
      "horsepower - k 7 : 4411.03534983\n",
      "horsepower - k 8 : 4449.33323662\n",
      "horsepower - k 9 : 4541.22705821\n",
      "horsepower - k 10 : 4639.84552705\n",
      "peak-rpm - k 1 : 5250.1656769\n",
      "peak-rpm - k 2 : 5106.11367996\n",
      "peak-rpm - k 3 : 5496.96570782\n",
      "peak-rpm - k 4 : 6019.62462839\n",
      "peak-rpm - k 5 : 6993.46182804\n",
      "peak-rpm - k 6 : 6949.1339069\n",
      "peak-rpm - k 7 : 7034.12678512\n",
      "peak-rpm - k 8 : 7187.84401087\n",
      "peak-rpm - k 9 : 7293.71995466\n",
      "peak-rpm - k 10 : 7416.12576432\n",
      "city-mpg - k 1 : 5406.58357784\n",
      "city-mpg - k 2 : 4334.38543638\n",
      "city-mpg - k 3 : 4180.7051136\n",
      "city-mpg - k 4 : 3814.4828302\n",
      "city-mpg - k 5 : 3822.67736906\n",
      "city-mpg - k 6 : 3979.43434962\n",
      "city-mpg - k 7 : 3901.58925731\n",
      "city-mpg - k 8 : 3941.78167657\n",
      "city-mpg - k 9 : 3936.4473627\n",
      "city-mpg - k 10 : 4129.31658537\n",
      "highway-mpg - k 1 : 4195.02814755\n",
      "highway-mpg - k 2 : 3504.93454414\n",
      "highway-mpg - k 3 : 3667.02257989\n",
      "highway-mpg - k 4 : 3614.94863256\n",
      "highway-mpg - k 5 : 3866.89389341\n",
      "highway-mpg - k 6 : 4016.58266658\n",
      "highway-mpg - k 7 : 4022.78523504\n",
      "highway-mpg - k 8 : 4124.80044229\n",
      "highway-mpg - k 9 : 4316.39217877\n",
      "highway-mpg - k 10 : 4381.65143063\n"
     ]
    }
   ],
   "source": [
    "knn_train_test_k_one_feature(features_all_55, 'price', cars_normal_1, k_list_1)"
   ]
  },
  {
   "cell_type": "code",
   "execution_count": 1526,
   "metadata": {},
   "outputs": [],
   "source": [
    "\n",
    "def knn_train_test_k_one_feature_2(features, target, df, k_list ):\n",
    "    \n",
    "    for col in features:\n",
    "            X=df[[col]]\n",
    "            y=df[target]\n",
    "            X_train, X_test, y_train, y_test = train_test_split(X, y, test_size=0.33, random_state=45)\n",
    "            RMSE_values_of_one_feature_models[col] = dict()\n",
    "            for k in k_list:\n",
    "                knn = KNeighborsRegressor(algorithm=\"auto\", n_neighbors=k)\n",
    "                knn.fit(X_train, y_train)\n",
    "                predictions = knn.predict(X_test)\n",
    "                mse = mean_squared_error(y_test, predictions)\n",
    "                rmse = np.sqrt(mse)\n",
    "                RMSE_values_of_one_feature_models[col][k] = rmse\n",
    "    return RMSE_values_of_one_feature_models"
   ]
  },
  {
   "cell_type": "code",
   "execution_count": 1527,
   "metadata": {},
   "outputs": [],
   "source": [
    "one_feature_10_k_dict = knn_train_test_k_one_feature_2(features_all_55, 'price', cars_normal_1, k_list_1)"
   ]
  },
  {
   "cell_type": "code",
   "execution_count": 1528,
   "metadata": {},
   "outputs": [
    {
     "data": {
      "text/plain": [
       "{1: 3544.8238678343741,\n",
       " 2: 3707.9212671004589,\n",
       " 3: 3166.7447016283145,\n",
       " 4: 3291.8371042372883,\n",
       " 5: 3445.3999667373378,\n",
       " 6: 3730.9146709871229,\n",
       " 7: 3498.4302450936761,\n",
       " 8: 3506.5091437211454,\n",
       " 9: 3650.727398332976,\n",
       " 10: 3893.0381193726944}"
      ]
     },
     "execution_count": 1528,
     "metadata": {},
     "output_type": "execute_result"
    }
   ],
   "source": [
    "one_feature_10_k_dict[\"curb-weight\"]"
   ]
  },
  {
   "cell_type": "markdown",
   "metadata": {},
   "source": [
    "These are the values of the one feature model for k-values from 1 to 10."
   ]
  },
  {
   "cell_type": "code",
   "execution_count": 1529,
   "metadata": {},
   "outputs": [
    {
     "data": {
      "text/plain": [
       "['normalized-losses',\n",
       " 'wheel-base',\n",
       " 'length',\n",
       " 'width',\n",
       " 'height',\n",
       " 'curb-weight',\n",
       " 'engine-size',\n",
       " 'bore',\n",
       " 'stroke',\n",
       " 'compression-ratio',\n",
       " 'horsepower',\n",
       " 'peak-rpm',\n",
       " 'city-mpg',\n",
       " 'highway-mpg']"
      ]
     },
     "execution_count": 1529,
     "metadata": {},
     "output_type": "execute_result"
    }
   ],
   "source": [
    "list(one_feature_10_k_dict.keys())"
   ]
  },
  {
   "cell_type": "code",
   "execution_count": 1530,
   "metadata": {},
   "outputs": [
    {
     "data": {
      "image/png": "[encoded data removed]",
      "text/plain": [
       "<Figure size 576x396 with 1 Axes>"
      ]
     },
     "metadata": {},
     "output_type": "display_data"
    }
   ],
   "source": [
    "# print(one_feature_10_k_dict.keys())\n",
    "# print(one_feature_10_k_dict.values())\n",
    "import matplotlib.patches as mpatches\n",
    "import matplotlib.pyplot as plt\n",
    "\n",
    "for k,v in one_feature_10_k_dict.items():\n",
    "    x = list(v.keys())\n",
    "    y = list(v.values())\n",
    "    \n",
    "    plt.plot(x,y)\n",
    "    plt.xlabel('k value')\n",
    "    plt.ylabel('RMSE')\n",
    "    plt.title(\"RMSE for one feature models by number of neighbor values\")\n",
    "    plt.legend(loc='right', labels=list(one_feature_10_k_dict.keys()), bbox_to_anchor=(1.4,0.5))\n",
    "\n",
    "plt.show()"
   ]
  },
  {
   "cell_type": "code",
   "execution_count": 1531,
   "metadata": {},
   "outputs": [
    {
     "data": {
      "text/html": [
       "<div>\n",
       "<style>\n",
       "    .dataframe thead tr:only-child th {\n",
       "        text-align: right;\n",
       "    }\n",
       "\n",
       "    .dataframe thead th {\n",
       "        text-align: left;\n",
       "    }\n",
       "\n",
       "    .dataframe tbody tr th {\n",
       "        vertical-align: top;\n",
       "    }\n",
       "</style>\n",
       "<table border=\"1\" class=\"dataframe\">\n",
       "  <thead>\n",
       "    <tr style=\"text-align: right;\">\n",
       "      <th></th>\n",
       "      <th>1</th>\n",
       "      <th>2</th>\n",
       "      <th>3</th>\n",
       "      <th>4</th>\n",
       "      <th>5</th>\n",
       "      <th>6</th>\n",
       "      <th>7</th>\n",
       "      <th>8</th>\n",
       "      <th>9</th>\n",
       "      <th>10</th>\n",
       "    </tr>\n",
       "  </thead>\n",
       "  <tbody>\n",
       "    <tr>\n",
       "      <th>bore</th>\n",
       "      <td>6213.877660</td>\n",
       "      <td>6083.036520</td>\n",
       "      <td>5984.176061</td>\n",
       "      <td>5891.890396</td>\n",
       "      <td>5928.979222</td>\n",
       "      <td>6052.444400</td>\n",
       "      <td>6065.760340</td>\n",
       "      <td>6138.452995</td>\n",
       "      <td>6238.026597</td>\n",
       "      <td>6180.048354</td>\n",
       "    </tr>\n",
       "    <tr>\n",
       "      <th>city-mpg</th>\n",
       "      <td>5406.583578</td>\n",
       "      <td>4334.385436</td>\n",
       "      <td>4180.705114</td>\n",
       "      <td>3814.482830</td>\n",
       "      <td>3822.677369</td>\n",
       "      <td>3979.434350</td>\n",
       "      <td>3901.589257</td>\n",
       "      <td>3941.781677</td>\n",
       "      <td>3936.447363</td>\n",
       "      <td>4129.316585</td>\n",
       "    </tr>\n",
       "    <tr>\n",
       "      <th>compression-ratio</th>\n",
       "      <td>7389.826082</td>\n",
       "      <td>6714.567972</td>\n",
       "      <td>6542.611831</td>\n",
       "      <td>6734.002151</td>\n",
       "      <td>6808.476828</td>\n",
       "      <td>6946.815689</td>\n",
       "      <td>7072.323499</td>\n",
       "      <td>7067.405519</td>\n",
       "      <td>6878.943701</td>\n",
       "      <td>6849.836915</td>\n",
       "    </tr>\n",
       "    <tr>\n",
       "      <th>curb-weight</th>\n",
       "      <td>3544.823868</td>\n",
       "      <td>3707.921267</td>\n",
       "      <td>3166.744702</td>\n",
       "      <td>3291.837104</td>\n",
       "      <td>3445.399967</td>\n",
       "      <td>3730.914671</td>\n",
       "      <td>3498.430245</td>\n",
       "      <td>3506.509144</td>\n",
       "      <td>3650.727398</td>\n",
       "      <td>3893.038119</td>\n",
       "    </tr>\n",
       "    <tr>\n",
       "      <th>engine-size</th>\n",
       "      <td>3348.449634</td>\n",
       "      <td>2839.012689</td>\n",
       "      <td>2975.068089</td>\n",
       "      <td>2978.664430</td>\n",
       "      <td>3124.224118</td>\n",
       "      <td>3343.733781</td>\n",
       "      <td>3402.063452</td>\n",
       "      <td>3432.360609</td>\n",
       "      <td>3498.477412</td>\n",
       "      <td>3526.592950</td>\n",
       "    </tr>\n",
       "    <tr>\n",
       "      <th>height</th>\n",
       "      <td>7839.939134</td>\n",
       "      <td>7007.852852</td>\n",
       "      <td>7167.112902</td>\n",
       "      <td>7634.132901</td>\n",
       "      <td>7632.944548</td>\n",
       "      <td>7469.790652</td>\n",
       "      <td>7473.808039</td>\n",
       "      <td>7765.302173</td>\n",
       "      <td>7613.801814</td>\n",
       "      <td>7573.311165</td>\n",
       "    </tr>\n",
       "    <tr>\n",
       "      <th>highway-mpg</th>\n",
       "      <td>4195.028148</td>\n",
       "      <td>3504.934544</td>\n",
       "      <td>3667.022580</td>\n",
       "      <td>3614.948633</td>\n",
       "      <td>3866.893893</td>\n",
       "      <td>4016.582667</td>\n",
       "      <td>4022.785235</td>\n",
       "      <td>4124.800442</td>\n",
       "      <td>4316.392179</td>\n",
       "      <td>4381.651431</td>\n",
       "    </tr>\n",
       "    <tr>\n",
       "      <th>horsepower</th>\n",
       "      <td>4359.434595</td>\n",
       "      <td>4289.592306</td>\n",
       "      <td>4659.885679</td>\n",
       "      <td>4584.208024</td>\n",
       "      <td>4449.880933</td>\n",
       "      <td>4362.333724</td>\n",
       "      <td>4411.035350</td>\n",
       "      <td>4449.333237</td>\n",
       "      <td>4541.227058</td>\n",
       "      <td>4639.845527</td>\n",
       "    </tr>\n",
       "    <tr>\n",
       "      <th>length</th>\n",
       "      <td>4376.895992</td>\n",
       "      <td>4401.195269</td>\n",
       "      <td>4747.544673</td>\n",
       "      <td>5064.484826</td>\n",
       "      <td>5207.821782</td>\n",
       "      <td>5482.692183</td>\n",
       "      <td>5570.608891</td>\n",
       "      <td>5696.503520</td>\n",
       "      <td>5716.467444</td>\n",
       "      <td>5786.842834</td>\n",
       "    </tr>\n",
       "    <tr>\n",
       "      <th>normalized-losses</th>\n",
       "      <td>7655.419557</td>\n",
       "      <td>7202.956465</td>\n",
       "      <td>6806.844141</td>\n",
       "      <td>7042.700419</td>\n",
       "      <td>7172.646586</td>\n",
       "      <td>7222.970938</td>\n",
       "      <td>7164.490996</td>\n",
       "      <td>7226.491290</td>\n",
       "      <td>7096.959415</td>\n",
       "      <td>6921.298979</td>\n",
       "    </tr>\n",
       "    <tr>\n",
       "      <th>peak-rpm</th>\n",
       "      <td>5250.165677</td>\n",
       "      <td>5106.113680</td>\n",
       "      <td>5496.965708</td>\n",
       "      <td>6019.624628</td>\n",
       "      <td>6993.461828</td>\n",
       "      <td>6949.133907</td>\n",
       "      <td>7034.126785</td>\n",
       "      <td>7187.844011</td>\n",
       "      <td>7293.719955</td>\n",
       "      <td>7416.125764</td>\n",
       "    </tr>\n",
       "    <tr>\n",
       "      <th>stroke</th>\n",
       "      <td>6837.566480</td>\n",
       "      <td>5867.719827</td>\n",
       "      <td>6864.043500</td>\n",
       "      <td>7033.468765</td>\n",
       "      <td>7117.389440</td>\n",
       "      <td>6928.948907</td>\n",
       "      <td>6879.070056</td>\n",
       "      <td>6903.941908</td>\n",
       "      <td>6844.183028</td>\n",
       "      <td>6893.503174</td>\n",
       "    </tr>\n",
       "    <tr>\n",
       "      <th>wheel-base</th>\n",
       "      <td>5219.976318</td>\n",
       "      <td>5406.598954</td>\n",
       "      <td>5730.921578</td>\n",
       "      <td>5863.531997</td>\n",
       "      <td>5912.414407</td>\n",
       "      <td>5839.016935</td>\n",
       "      <td>6033.790528</td>\n",
       "      <td>5945.847978</td>\n",
       "      <td>5998.977538</td>\n",
       "      <td>6090.101347</td>\n",
       "    </tr>\n",
       "    <tr>\n",
       "      <th>width</th>\n",
       "      <td>4142.107237</td>\n",
       "      <td>3406.816270</td>\n",
       "      <td>3120.282180</td>\n",
       "      <td>3313.901051</td>\n",
       "      <td>3474.544412</td>\n",
       "      <td>3479.990166</td>\n",
       "      <td>3472.586127</td>\n",
       "      <td>3463.857143</td>\n",
       "      <td>3546.410091</td>\n",
       "      <td>3687.042523</td>\n",
       "    </tr>\n",
       "  </tbody>\n",
       "</table>\n",
       "</div>"
      ],
      "text/plain": [
       "                            1            2            3            4   \\\n",
       "bore               6213.877660  6083.036520  5984.176061  5891.890396   \n",
       "city-mpg           5406.583578  4334.385436  4180.705114  3814.482830   \n",
       "compression-ratio  7389.826082  6714.567972  6542.611831  6734.002151   \n",
       "curb-weight        3544.823868  3707.921267  3166.744702  3291.837104   \n",
       "engine-size        3348.449634  2839.012689  2975.068089  2978.664430   \n",
       "height             7839.939134  7007.852852  7167.112902  7634.132901   \n",
       "highway-mpg        4195.028148  3504.934544  3667.022580  3614.948633   \n",
       "horsepower         4359.434595  4289.592306  4659.885679  4584.208024   \n",
       "length             4376.895992  4401.195269  4747.544673  5064.484826   \n",
       "normalized-losses  7655.419557  7202.956465  6806.844141  7042.700419   \n",
       "peak-rpm           5250.165677  5106.113680  5496.965708  6019.624628   \n",
       "stroke             6837.566480  5867.719827  6864.043500  7033.468765   \n",
       "wheel-base         5219.976318  5406.598954  5730.921578  5863.531997   \n",
       "width              4142.107237  3406.816270  3120.282180  3313.901051   \n",
       "\n",
       "                            5            6            7            8   \\\n",
       "bore               5928.979222  6052.444400  6065.760340  6138.452995   \n",
       "city-mpg           3822.677369  3979.434350  3901.589257  3941.781677   \n",
       "compression-ratio  6808.476828  6946.815689  7072.323499  7067.405519   \n",
       "curb-weight        3445.399967  3730.914671  3498.430245  3506.509144   \n",
       "engine-size        3124.224118  3343.733781  3402.063452  3432.360609   \n",
       "height             7632.944548  7469.790652  7473.808039  7765.302173   \n",
       "highway-mpg        3866.893893  4016.582667  4022.785235  4124.800442   \n",
       "horsepower         4449.880933  4362.333724  4411.035350  4449.333237   \n",
       "length             5207.821782  5482.692183  5570.608891  5696.503520   \n",
       "normalized-losses  7172.646586  7222.970938  7164.490996  7226.491290   \n",
       "peak-rpm           6993.461828  6949.133907  7034.126785  7187.844011   \n",
       "stroke             7117.389440  6928.948907  6879.070056  6903.941908   \n",
       "wheel-base         5912.414407  5839.016935  6033.790528  5945.847978   \n",
       "width              3474.544412  3479.990166  3472.586127  3463.857143   \n",
       "\n",
       "                            9            10  \n",
       "bore               6238.026597  6180.048354  \n",
       "city-mpg           3936.447363  4129.316585  \n",
       "compression-ratio  6878.943701  6849.836915  \n",
       "curb-weight        3650.727398  3893.038119  \n",
       "engine-size        3498.477412  3526.592950  \n",
       "height             7613.801814  7573.311165  \n",
       "highway-mpg        4316.392179  4381.651431  \n",
       "horsepower         4541.227058  4639.845527  \n",
       "length             5716.467444  5786.842834  \n",
       "normalized-losses  7096.959415  6921.298979  \n",
       "peak-rpm           7293.719955  7416.125764  \n",
       "stroke             6844.183028  6893.503174  \n",
       "wheel-base         5998.977538  6090.101347  \n",
       "width              3546.410091  3687.042523  "
      ]
     },
     "execution_count": 1531,
     "metadata": {},
     "output_type": "execute_result"
    }
   ],
   "source": [
    "# df =pd.DataFrame.from_dict(d,orient='index')\n",
    "one_feature_10_k_df = pd.DataFrame.from_dict(one_feature_10_k_dict, orient='index')\n",
    "one_feature_10_k_df"
   ]
  },
  {
   "cell_type": "code",
   "execution_count": 1532,
   "metadata": {},
   "outputs": [
    {
     "data": {
      "text/plain": [
       "engine-size          2839.012689\n",
       "width                3120.282180\n",
       "curb-weight          3166.744702\n",
       "highway-mpg          3504.934544\n",
       "city-mpg             3814.482830\n",
       "horsepower           4289.592306\n",
       "length               4376.895992\n",
       "peak-rpm             5106.113680\n",
       "wheel-base           5219.976318\n",
       "stroke               5867.719827\n",
       "bore                 5891.890396\n",
       "compression-ratio    6542.611831\n",
       "normalized-losses    6806.844141\n",
       "height               7007.852852\n",
       "dtype: float64"
      ]
     },
     "execution_count": 1532,
     "metadata": {},
     "output_type": "execute_result"
    }
   ],
   "source": [
    "one_feature_10_k_df_min_RMSE = one_feature_10_k_df.min(axis=1).sort_values()\n",
    "one_feature_10_k_df_min_RMSE"
   ]
  },
  {
   "cell_type": "code",
   "execution_count": 1533,
   "metadata": {},
   "outputs": [
    {
     "data": {
      "text/plain": [
       "<matplotlib.axes._subplots.AxesSubplot at 0x20e5d5455f8>"
      ]
     },
     "execution_count": 1533,
     "metadata": {},
     "output_type": "execute_result"
    },
    {
     "data": {
      "image/png": "[encoded data removed]",
      "text/plain": [
       "<Figure size 576x396 with 1 Axes>"
      ]
     },
     "metadata": {},
     "output_type": "display_data"
    }
   ],
   "source": [
    "one_feature_10_k_df_min_RMSE.sort_values().plot(kind='bar', color=[\"green\", \"pink\"])"
   ]
  },
  {
   "cell_type": "markdown",
   "metadata": {},
   "source": [
    "The lowest rmse of 2839 is based on the one feature model using the engine-size feature with k = 3."
   ]
  },
  {
   "cell_type": "markdown",
   "metadata": {},
   "source": [
    "Modifying the function so that a list of features is taken instead of using only one feature.<br>\n",
    "(This is a step back in complexity of the function.)"
   ]
  },
  {
   "cell_type": "code",
   "execution_count": 1534,
   "metadata": {},
   "outputs": [],
   "source": [
    "# train-test-split, modeling, tuning: n_neighbors=5(standard), predict, evaluate, store\n",
    "def knn_training_many_features(features, target, df):\n",
    "    \n",
    "\n",
    "                X=df[features]\n",
    "                y=df[target]\n",
    "                X_train, X_test, y_train, y_test = train_test_split(X, y, test_size=0.33, random_state=45)\n",
    "                \n",
    "                RMSE_values_many_features = []\n",
    "\n",
    "                knn = KNeighborsRegressor(algorithm=\"auto\")\n",
    "                knn.fit(X_train, y_train)\n",
    "                predictions = knn.predict(X_test)\n",
    "                mse = mean_squared_error(y_test, predictions)\n",
    "                rmse = np.sqrt(mse)\n",
    "                RMSE_values_many_features.append(rmse)\n",
    "                \n",
    "                return RMSE_values_many_features"
   ]
  },
  {
   "cell_type": "code",
   "execution_count": 1535,
   "metadata": {},
   "outputs": [
    {
     "data": {
      "text/plain": [
       "[2951.2332803288587]"
      ]
     },
     "execution_count": 1535,
     "metadata": {},
     "output_type": "execute_result"
    }
   ],
   "source": [
    "# using only the features with the 2 lowest RMSE's determined above\n",
    "features_2_lowest_RMSE = ['engine-size', 'width']\n",
    "rmse_using_2_features = knn_training_many_features(features=features_2_lowest_RMSE, target='price', df=cars_normal_1)\n",
    "rmse_using_2_features"
   ]
  },
  {
   "cell_type": "code",
   "execution_count": 1536,
   "metadata": {},
   "outputs": [
    {
     "name": "stdout",
     "output_type": "stream",
     "text": [
      "['engine-size', 'width', 'curb-weight']\n",
      "[2770.2414508257243]\n"
     ]
    }
   ],
   "source": [
    "# using only the features with the 3 lowest RMSE's determined above\n",
    "features_3_lowest_RMSE = list(one_feature_10_k_df_min_RMSE.index[0:3])\n",
    "rmse_using_3_features = knn_training_many_features(features=features_3_lowest_RMSE, target='price', df=cars_normal_1)\n",
    "print(list(one_feature_10_k_df_min_RMSE.index[0:3]))\n",
    "print(rmse_using_3_features)"
   ]
  },
  {
   "cell_type": "code",
   "execution_count": 1537,
   "metadata": {},
   "outputs": [
    {
     "name": "stdout",
     "output_type": "stream",
     "text": [
      "['engine-size', 'width', 'curb-weight', 'highway-mpg']\n",
      "[2628.3308107606335]\n"
     ]
    }
   ],
   "source": [
    "# using only the features with the 4 lowest RMSE's determined above\n",
    "features_4_lowest_RMSE = list(one_feature_10_k_df_min_RMSE.index[0:4])\n",
    "rmse_using_4_features = knn_training_many_features(features=features_4_lowest_RMSE, target='price', df=cars_normal_1)\n",
    "print(list(one_feature_10_k_df_min_RMSE.index[0:4]))\n",
    "print(rmse_using_4_features)"
   ]
  },
  {
   "cell_type": "code",
   "execution_count": 1538,
   "metadata": {},
   "outputs": [
    {
     "name": "stdout",
     "output_type": "stream",
     "text": [
      "['engine-size', 'width', 'curb-weight', 'highway-mpg', 'city-mpg']\n",
      "[2645.4512755725764]\n"
     ]
    }
   ],
   "source": [
    "# using only the features with the 5 lowest RMSE's determined above\n",
    "features_5_lowest_RMSE = list(one_feature_10_k_df_min_RMSE.index[0:5])\n",
    "rmse_using_5_features = knn_training_many_features(features=features_5_lowest_RMSE, target='price', df=cars_normal_1)\n",
    "print(list(one_feature_10_k_df_min_RMSE.index[0:5]))\n",
    "print(rmse_using_5_features)"
   ]
  },
  {
   "cell_type": "code",
   "execution_count": 1539,
   "metadata": {},
   "outputs": [
    {
     "name": "stdout",
     "output_type": "stream",
     "text": [
      "[2951.2332803288587, 2770.2414508257243, 2628.3308107606335, 2645.4512755725764]\n",
      "{'Number_features': [2, 3, 4, 5], 'RMSE': [2951.2332803288587, 2770.2414508257243, 2628.3308107606335, 2645.4512755725764]}\n"
     ]
    }
   ],
   "source": [
    "number_features_1 = list(np.arange(2,6,1)) \n",
    "rmse_many_features = rmse_using_2_features, rmse_using_3_features, rmse_using_4_features, rmse_using_5_features\n",
    "# the result is a list of lists as the function returns a list (, which is not necessary as only one value is returned)\n",
    "# This could be changed but this time the list of list is flattened with itertools\n",
    "# https://stackoverflow.com/questions/952914/how-to-make-a-flat-list-out-of-list-of-lists\n",
    "rmse_many_features_flat = list(itertools.chain.from_iterable(rmse_many_features))\n",
    "RMSE_many_features = {'Number_features':number_features_1, 'RMSE': rmse_many_features_flat}\n",
    "print(rmse_many_features_flat)\n",
    "print(RMSE_many_features)"
   ]
  },
  {
   "cell_type": "code",
   "execution_count": 1540,
   "metadata": {},
   "outputs": [
    {
     "data": {
      "text/html": [
       "<div>\n",
       "<style>\n",
       "    .dataframe thead tr:only-child th {\n",
       "        text-align: right;\n",
       "    }\n",
       "\n",
       "    .dataframe thead th {\n",
       "        text-align: left;\n",
       "    }\n",
       "\n",
       "    .dataframe tbody tr th {\n",
       "        vertical-align: top;\n",
       "    }\n",
       "</style>\n",
       "<table border=\"1\" class=\"dataframe\">\n",
       "  <thead>\n",
       "    <tr style=\"text-align: right;\">\n",
       "      <th></th>\n",
       "      <th>Number_features</th>\n",
       "      <th>RMSE</th>\n",
       "    </tr>\n",
       "  </thead>\n",
       "  <tbody>\n",
       "    <tr>\n",
       "      <th>0</th>\n",
       "      <td>4</td>\n",
       "      <td>2628.33</td>\n",
       "    </tr>\n",
       "    <tr>\n",
       "      <th>1</th>\n",
       "      <td>5</td>\n",
       "      <td>2645.45</td>\n",
       "    </tr>\n",
       "    <tr>\n",
       "      <th>2</th>\n",
       "      <td>3</td>\n",
       "      <td>2770.24</td>\n",
       "    </tr>\n",
       "    <tr>\n",
       "      <th>3</th>\n",
       "      <td>2</td>\n",
       "      <td>2951.23</td>\n",
       "    </tr>\n",
       "  </tbody>\n",
       "</table>\n",
       "</div>"
      ],
      "text/plain": [
       "   Number_features     RMSE\n",
       "0                4  2628.33\n",
       "1                5  2645.45\n",
       "2                3  2770.24\n",
       "3                2  2951.23"
      ]
     },
     "execution_count": 1540,
     "metadata": {},
     "output_type": "execute_result"
    }
   ],
   "source": [
    "df_RMSE_many_features = pd.DataFrame(data=RMSE_many_features).sort_values(by=\"RMSE\").reset_index(drop=True)\n",
    "df_RMSE_many_features['RMSE'] = df_RMSE_many_features['RMSE'].round(2)\n",
    "df_RMSE_many_features"
   ]
  },
  {
   "cell_type": "code",
   "execution_count": 1541,
   "metadata": {},
   "outputs": [
    {
     "data": {
      "text/plain": [
       "<matplotlib.axes._subplots.AxesSubplot at 0x20e5d727940>"
      ]
     },
     "execution_count": 1541,
     "metadata": {},
     "output_type": "execute_result"
    },
    {
     "data": {
      "image/png": "[encoded data removed]",
      "text/plain": [
       "<Figure size 576x360 with 1 Axes>"
      ]
     },
     "metadata": {},
     "output_type": "display_data"
    }
   ],
   "source": [
    "df_RMSE_many_features.plot(x=\"Number_features\", y=\"RMSE\", kind=\"bar\", color=[\"gold\", \"green\"], legend=None, \n",
    "                           title=\"RMSE by number of features\", figsize=(8,5), use_index=False, fontsize=12,\n",
    "                           table=True)"
   ]
  },
  {
   "cell_type": "markdown",
   "metadata": {},
   "source": [
    "The four feature model produces the best result, followed by 5 and then 3 features."
   ]
  },
  {
   "cell_type": "markdown",
   "metadata": {},
   "source": [
    "Modifying the function to take again a list of k with the best models from above and this time returns a sorted data frame of RMSE values. "
   ]
  },
  {
   "cell_type": "code",
   "execution_count": 1542,
   "metadata": {},
   "outputs": [],
   "source": [
    "# train-test-split, modeling, tuning: n_neighbors provided by an argument k_list, predict, evaluate, store\n",
    "def knn_training_many_features_k(features, target, df, k_list):\n",
    "    \n",
    "\n",
    "                X=df[features]\n",
    "                length_features = len(features)\n",
    "                RMSE_name = \"RMSE_with_{}_features\".format(length_features)\n",
    "                y=df[target]\n",
    "                X_train, X_test, y_train, y_test = train_test_split(X, y, test_size=0.33, random_state=45)\n",
    "                \n",
    "                RMSE_values_many_features_25_k = {}\n",
    "                \n",
    "                for k in k_list:\n",
    "\n",
    "                        knn = KNeighborsRegressor(algorithm=\"auto\", n_neighbors=k)\n",
    "                        knn.fit(X_train, y_train)\n",
    "                        predictions = knn.predict(X_test)\n",
    "                        mse = mean_squared_error(y_test, predictions)\n",
    "                        rmse = np.sqrt(mse)\n",
    "                        RMSE_values_many_features_25_k[k] = rmse\n",
    "                        \n",
    "                rmse_2_features_25_k_df = pd.DataFrame.from_dict(RMSE_values_many_features_25_k, \n",
    "                                                                 orient='index').reset_index()\n",
    "                rmse_2_features_25_k_df['Source'] = RMSE_name\n",
    "                rmse_2_features_25_k_df = rmse_2_features_25_k_df.rename(index=str,columns={\"index\": \"K\", 0:\"RMSE\"})\n",
    "                rmse_2_features_25_k_df.sort_values(by=\"RMSE\", inplace=True)\n",
    "                # return RMSE_values_many_features_25_k\n",
    "                return rmse_2_features_25_k_df"
   ]
  },
  {
   "cell_type": "code",
   "execution_count": 1543,
   "metadata": {},
   "outputs": [
    {
     "name": "stdout",
     "output_type": "stream",
     "text": [
      "[ 1  2  3  4  5  6  7  8  9 10 11 12 13 14 15 16 17 18 19 20 21 22 23 24 25]\n"
     ]
    }
   ],
   "source": [
    "k_list_222 = np.arange(1,26,1)\n",
    "print(k_list_222)"
   ]
  },
  {
   "cell_type": "code",
   "execution_count": 1544,
   "metadata": {},
   "outputs": [
    {
     "name": "stdout",
     "output_type": "stream",
     "text": [
      "    K         RMSE                Source\n",
      "1   2  2168.657735  RMSE_with_2_features\n",
      "0   1  2255.444482  RMSE_with_2_features\n",
      "2   3  2319.005311  RMSE_with_2_features\n",
      "3   4  2629.227913  RMSE_with_2_features\n",
      "4   5  2951.233280  RMSE_with_2_features\n",
      "5   6  3157.615815  RMSE_with_2_features\n",
      "6   7  3260.709683  RMSE_with_2_features\n",
      "7   8  3299.471667  RMSE_with_2_features\n",
      "8   9  3519.048165  RMSE_with_2_features\n",
      "9  10  3568.833758  RMSE_with_2_features\n"
     ]
    }
   ],
   "source": [
    "\n",
    "rmse_2_features_25_k = knn_training_many_features_k(features=features_2_lowest_RMSE, \n",
    "                                                    target=\"price\", df=cars_normal_1, k_list=k_list_222 )\n",
    "print(rmse_2_features_25_k.head(10))\n",
    "#  19: 4326.7245834240948"
   ]
  },
  {
   "cell_type": "markdown",
   "metadata": {},
   "source": [
    "The best RMSE of 2168 Dollar of the two feature model is generated when n_neighbours is 2."
   ]
  },
  {
   "cell_type": "code",
   "execution_count": 1545,
   "metadata": {},
   "outputs": [
    {
     "name": "stdout",
     "output_type": "stream",
     "text": [
      "   K         RMSE\n",
      "1  2  2290.165728\n",
      "0  1  2294.082713\n",
      "2  3  2443.795793\n",
      "3  4  2565.505295\n",
      "4  5  2770.241451\n"
     ]
    }
   ],
   "source": [
    "\n",
    "rmse_3_features_25_k = knn_training_many_features_k(features=features_3_lowest_RMSE, \n",
    "                                                    target=\"price\", df=cars_normal_1, k_list=k_list_222 )\n",
    "print(rmse_3_features_25_k[['K', 'RMSE']].head())\n",
    "#  19: 4326.7245834240948"
   ]
  },
  {
   "cell_type": "markdown",
   "metadata": {},
   "source": [
    "The best RMSE of 2290 Dollar of the two feature model is generated when n_neighbours is 2."
   ]
  },
  {
   "cell_type": "code",
   "execution_count": 1546,
   "metadata": {},
   "outputs": [
    {
     "name": "stdout",
     "output_type": "stream",
     "text": [
      "   K         RMSE\n",
      "0  1  2051.296385\n",
      "1  2  2073.808740\n",
      "2  3  2286.265364\n",
      "3  4  2403.660970\n",
      "4  5  2628.330811\n"
     ]
    }
   ],
   "source": [
    "features_4_lowest_RMSE \n",
    "rmse_4_features_25_k = knn_training_many_features_k(features=features_4_lowest_RMSE, \n",
    "                                                    target=\"price\", df=cars_normal_1, k_list=k_list_222 )\n",
    "print(rmse_4_features_25_k[['K', 'RMSE']].head())"
   ]
  },
  {
   "cell_type": "markdown",
   "metadata": {},
   "source": [
    "The best RMSE of 2051 Dollar of the two feature model is generated when n_neighbours is 1."
   ]
  },
  {
   "cell_type": "code",
   "execution_count": 1547,
   "metadata": {},
   "outputs": [
    {
     "name": "stdout",
     "output_type": "stream",
     "text": [
      "   K         RMSE\n",
      "1  2  2215.734209\n",
      "2  3  2259.866310\n",
      "0  1  2300.281270\n",
      "3  4  2501.093852\n",
      "4  5  2645.451276\n"
     ]
    }
   ],
   "source": [
    "features_5_lowest_RMSE \n",
    "rmse_5_features_25_k = knn_training_many_features_k(features=features_5_lowest_RMSE, \n",
    "                                                    target=\"price\", df=cars_normal_1, k_list=k_list_222 )\n",
    "print(rmse_5_features_25_k[['K', 'RMSE']].head())"
   ]
  },
  {
   "cell_type": "code",
   "execution_count": 1548,
   "metadata": {},
   "outputs": [
    {
     "data": {
      "text/html": [
       "<div>\n",
       "<style>\n",
       "    .dataframe thead tr:only-child th {\n",
       "        text-align: right;\n",
       "    }\n",
       "\n",
       "    .dataframe thead th {\n",
       "        text-align: left;\n",
       "    }\n",
       "\n",
       "    .dataframe tbody tr th {\n",
       "        vertical-align: top;\n",
       "    }\n",
       "</style>\n",
       "<table border=\"1\" class=\"dataframe\">\n",
       "  <thead>\n",
       "    <tr style=\"text-align: right;\">\n",
       "      <th></th>\n",
       "      <th>K</th>\n",
       "      <th>RMSE</th>\n",
       "    </tr>\n",
       "  </thead>\n",
       "  <tbody>\n",
       "    <tr>\n",
       "      <th>1</th>\n",
       "      <td>2</td>\n",
       "      <td>2168.657735</td>\n",
       "    </tr>\n",
       "    <tr>\n",
       "      <th>0</th>\n",
       "      <td>1</td>\n",
       "      <td>2255.444482</td>\n",
       "    </tr>\n",
       "    <tr>\n",
       "      <th>2</th>\n",
       "      <td>3</td>\n",
       "      <td>2319.005311</td>\n",
       "    </tr>\n",
       "    <tr>\n",
       "      <th>3</th>\n",
       "      <td>4</td>\n",
       "      <td>2629.227913</td>\n",
       "    </tr>\n",
       "    <tr>\n",
       "      <th>4</th>\n",
       "      <td>5</td>\n",
       "      <td>2951.233280</td>\n",
       "    </tr>\n",
       "  </tbody>\n",
       "</table>\n",
       "</div>"
      ],
      "text/plain": [
       "   K         RMSE\n",
       "1  2  2168.657735\n",
       "0  1  2255.444482\n",
       "2  3  2319.005311\n",
       "3  4  2629.227913\n",
       "4  5  2951.233280"
      ]
     },
     "execution_count": 1548,
     "metadata": {},
     "output_type": "execute_result"
    }
   ],
   "source": [
    "RMSE_many_models_agg=pd.concat([rmse_2_features_25_k, rmse_3_features_25_k, rmse_4_features_25_k, rmse_5_features_25_k])\n",
    "RMSE_many_models_agg[['K', 'RMSE']].head()"
   ]
  },
  {
   "cell_type": "code",
   "execution_count": 1549,
   "metadata": {},
   "outputs": [
    {
     "data": {
      "text/html": [
       "<div>\n",
       "<style>\n",
       "    .dataframe thead tr:only-child th {\n",
       "        text-align: right;\n",
       "    }\n",
       "\n",
       "    .dataframe thead th {\n",
       "        text-align: left;\n",
       "    }\n",
       "\n",
       "    .dataframe tbody tr th {\n",
       "        vertical-align: top;\n",
       "    }\n",
       "</style>\n",
       "<table border=\"1\" class=\"dataframe\">\n",
       "  <thead>\n",
       "    <tr style=\"text-align: right;\">\n",
       "      <th></th>\n",
       "      <th>min</th>\n",
       "      <th>mean</th>\n",
       "    </tr>\n",
       "    <tr>\n",
       "      <th>Source</th>\n",
       "      <th></th>\n",
       "      <th></th>\n",
       "    </tr>\n",
       "  </thead>\n",
       "  <tbody>\n",
       "    <tr>\n",
       "      <th>RMSE_with_4_features</th>\n",
       "      <td>2051.296385</td>\n",
       "      <td>3553.438836</td>\n",
       "    </tr>\n",
       "    <tr>\n",
       "      <th>RMSE_with_2_features</th>\n",
       "      <td>2168.657735</td>\n",
       "      <td>3709.921647</td>\n",
       "    </tr>\n",
       "    <tr>\n",
       "      <th>RMSE_with_5_features</th>\n",
       "      <td>2215.734209</td>\n",
       "      <td>3526.290064</td>\n",
       "    </tr>\n",
       "    <tr>\n",
       "      <th>RMSE_with_3_features</th>\n",
       "      <td>2290.165728</td>\n",
       "      <td>3636.261499</td>\n",
       "    </tr>\n",
       "  </tbody>\n",
       "</table>\n",
       "</div>"
      ],
      "text/plain": [
       "                              min         mean\n",
       "Source                                        \n",
       "RMSE_with_4_features  2051.296385  3553.438836\n",
       "RMSE_with_2_features  2168.657735  3709.921647\n",
       "RMSE_with_5_features  2215.734209  3526.290064\n",
       "RMSE_with_3_features  2290.165728  3636.261499"
      ]
     },
     "execution_count": 1549,
     "metadata": {},
     "output_type": "execute_result"
    }
   ],
   "source": [
    "RMSE_many_models_agg.groupby(\"Source\")[\"RMSE\"].aggregate([\"min\", \"mean\"]).sort_values(by='min')"
   ]
  },
  {
   "cell_type": "code",
   "execution_count": 1550,
   "metadata": {},
   "outputs": [
    {
     "data": {
      "image/png": "[encoded data removed]",
      "text/plain": [
       "<Figure size 504x360 with 1 Axes>"
      ]
     },
     "metadata": {},
     "output_type": "display_data"
    }
   ],
   "source": [
    "fig = plt.figure(figsize=(7,5))\n",
    "ax1 = fig.add_subplot(111)\n",
    "ax1.scatter(rmse_2_features_25_k['K'], rmse_2_features_25_k['RMSE'])\n",
    "ax1.scatter(rmse_3_features_25_k['K'], rmse_3_features_25_k['RMSE'])\n",
    "ax1.scatter(rmse_4_features_25_k['K'], rmse_4_features_25_k['RMSE'])\n",
    "ax1.scatter(rmse_5_features_25_k['K'], rmse_5_features_25_k['RMSE'])\n",
    "ax1.set_xlabel(\"Number of neighbors: k\")\n",
    "ax1.set_ylabel(\"RMSE in $\")\n",
    "plt.title(\"RMSE by number of neighbors for different models\")\n",
    "ax1.legend(loc=\"center right\", labels=[\"2 features model\", \"3 features model\", \"4 features model\", \"5 features model\"]) \n",
    "plt.show()"
   ]
  },
  {
   "cell_type": "markdown",
   "metadata": {},
   "source": [
    "The best RMSE of 2051.296385 Dollar of the two feature model is generated when n_neighbours is 4.<br>\n",
    "Cross-validation and other algorithms could improve the predictions further."
   ]
  },
  {
   "cell_type": "code",
   "execution_count": null,
   "metadata": {},
   "outputs": [],
   "source": []
  }
 ],
 "metadata": {
  "kernelspec": {
   "display_name": "Python 3",
   "language": "python",
   "name": "python3"
  },
  "language_info": {
   "codemirror_mode": {
    "name": "ipython",
    "version": 3
   },
   "file_extension": ".py",
   "mimetype": "text/x-python",
   "name": "python",
   "nbconvert_exporter": "python",
   "pygments_lexer": "ipython3",
   "version": "3.6.8"
  }
 },
 "nbformat": 4,
 "nbformat_minor": 2
}
